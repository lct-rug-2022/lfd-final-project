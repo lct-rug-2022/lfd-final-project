{
 "cells": [
  {
   "cell_type": "code",
   "execution_count": 11,
   "id": "707a7463",
   "metadata": {},
   "outputs": [],
   "source": [
    "import random as python_random\n",
    "import numpy as np\n",
    "from keras.models import Sequential\n",
    "from keras.layers.core import Dense\n",
    "from keras.layers import Embedding, LSTM, Dropout, Bidirectional, MaxPooling1D, Conv1D\n",
    "from keras.initializers import Constant\n",
    "from sklearn.metrics import accuracy_score, f1_score, classification_report\n",
    "from sklearn.preprocessing import LabelBinarizer\n",
    "from tensorflow.keras.optimizers import SGD, Adam\n",
    "from tensorflow.keras.layers import TextVectorization\n",
    "import tensorflow as tf\n",
    "import keras\n",
    "import pickle\n",
    "import keras.backend as K\n",
    "import pandas as pd"
   ]
  },
  {
   "cell_type": "code",
   "execution_count": 12,
   "id": "f67efe3a",
   "metadata": {},
   "outputs": [],
   "source": [
    "def read_corpus(corpus_file):\n",
    "    '''Read in data set and returns docs and labels'''\n",
    "    documents = []\n",
    "    labels = []\n",
    "    with open(corpus_file, encoding='utf-8') as f:\n",
    "        for line in f:\n",
    "            tokens = line.strip()\n",
    "            documents.append(tokens.split(\"\\t\")[0])\n",
    "            # binary problem: NOT, OFF\n",
    "            labels.append(tokens.split(\"\\t\")[1])\n",
    "    return documents, labels\n",
    "\n",
    "def read_word_emb(embeddings_file):\n",
    "    '''Read embeddings dictionary file'''\n",
    "    with open(embeddings_file, 'rb') as f:\n",
    "        loaded_dict = pickle.load(f)\n",
    "    return loaded_dict\n",
    "\n",
    "def get_emb_matrix(voc, emb):\n",
    "    '''Get embedding matrix given vocab and the embeddings'''\n",
    "    num_tokens = len(voc) + 2\n",
    "    word_index = dict(zip(voc, range(len(voc))))\n",
    "    # Bit hacky, get embedding dimension from the word \"the\"\n",
    "    embedding_dim = len(emb[\"the\"])\n",
    "    # Prepare embedding matrix to the correct size\n",
    "    embedding_matrix = np.zeros((num_tokens, embedding_dim))\n",
    "    for word, i in word_index.items():\n",
    "        embedding_vector = emb.get(word)\n",
    "        if embedding_vector is not None:\n",
    "            # Words not found in embedding index will be all-zeros.\n",
    "            embedding_matrix[i] = embedding_vector\n",
    "    # Final matrix with pretrained embeddings that we can feed to embedding layer\n",
    "    return embedding_matrix\n",
    "\n",
    "def test_set_predict(model, X_test, Y_test, ident):\n",
    "    '''Do predictions and measure accuracy on our own test set (that we split off train)'''\n",
    "    # Get predictions using the trained model\n",
    "    Y_pred = model.predict(X_test)\n",
    "    # Finally, convert to labels to get scores with sklearn\n",
    "    Y_pred=(Y_pred.flatten()>0.5)*1\n",
    "    # If you have gold data, you can calculate accuracy\n",
    "    Y_test = Y_test.flatten()\n",
    "    print('Accuracy on own {1} set: {0}'.format(round(accuracy_score(Y_test, Y_pred), 3), ident))\n",
    "    return Y_pred\n",
    "\n",
    "def get_f1(y_true, y_pred): #taken from old keras source code\n",
    "    '''for getting f1 scores during training'''\n",
    "    true_positives = K.sum(K.round(K.clip(y_true * y_pred, 0, 1)))\n",
    "    possible_positives = K.sum(K.round(K.clip(y_true, 0, 1)))\n",
    "    predicted_positives = K.sum(K.round(K.clip(y_pred, 0, 1)))\n",
    "    precision = true_positives / (predicted_positives + K.epsilon())\n",
    "    recall = true_positives / (possible_positives + K.epsilon())\n",
    "    f1_val = 2*(precision*recall)/(precision+recall+K.epsilon())\n",
    "    return f1_val\n",
    "\n",
    "def scheduler(epoch, lr):\n",
    "    '''learning rate scheduler'''\n",
    "    if epoch < 7:\n",
    "        return lr\n",
    "    else:\n",
    "        return lr * tf.math.exp(-0.1)\n",
    "    \n",
    "def train_model(model, X_train, Y_train, X_dev, Y_dev, batch_size, epochs):\n",
    "    '''Train the model here'''\n",
    "    verbose = 1\n",
    "    batch_size = batch_size\n",
    "    epochs = epochs\n",
    "    # Early stopping\n",
    "    callback1 = tf.keras.callbacks.EarlyStopping(monitor='val_loss', patience=3)\n",
    "    #Learning rate scheduler using function\n",
    "    callback2 = tf.keras.callbacks.LearningRateScheduler(scheduler)\n",
    "    #Assigning class weights for imbalanced classification\n",
    "    class_weight = {0: 1.,\n",
    "                1: 2.}\n",
    "    # Finally fit the model to our data\n",
    "    model.fit(X_train, Y_train, verbose=verbose, epochs=epochs, callbacks=[callback1,callback2], batch_size=batch_size, validation_data=(X_dev, Y_dev),\n",
    "             class_weight=class_weight)\n",
    "    return model"
   ]
  },
  {
   "cell_type": "code",
   "execution_count": 13,
   "id": "ea7a0033",
   "metadata": {},
   "outputs": [],
   "source": [
    "#Setting seeds for reproducibility\n",
    "np.random.seed(1234)\n",
    "tf.random.set_seed(1234)\n",
    "python_random.seed(1234)"
   ]
  },
  {
   "cell_type": "code",
   "execution_count": 14,
   "id": "e56bd4f0",
   "metadata": {},
   "outputs": [
    {
     "name": "stderr",
     "output_type": "stream",
     "text": [
      "2022-11-03 13:41:21.322639: I tensorflow/core/grappler/optimizers/custom_graph_optimizer_registry.cc:114] Plugin optimizer for device_type GPU is enabled.\n"
     ]
    }
   ],
   "source": [
    "# Read in the data\n",
    "X_train, Y_train = read_corpus(\"datasets/train_preprocessed.txt\")\n",
    "X_dev, Y_dev = read_corpus(\"datasets/val_preprocessed.txt\")\n",
    "\n",
    "# Transform words to indices using a vectorizer\n",
    "vectorizer = TextVectorization(standardize=None, output_sequence_length=50)\n",
    "# Use train and dev to create vocab - could also do just train\n",
    "text_ds = tf.data.Dataset.from_tensor_slices(X_train + X_dev)\n",
    "with tf.device('/cpu:0'):\n",
    "    vectorizer.adapt(text_ds)\n",
    "    \n",
    "# Dictionary mapping words to idx\n",
    "voc = vectorizer.get_vocabulary()\n",
    "\n",
    "#changing labels to binary\n",
    "encoder = LabelBinarizer()\n",
    "Y_train_bin = encoder.fit_transform(Y_train)  # Use encoder.classes_ to find mapping back\n",
    "Y_dev_bin = encoder.fit_transform(Y_dev)\n",
    "\n",
    "# Transform input to vectorized input\n",
    "X_train_vect = vectorizer(np.array([[s] for s in X_train])).numpy()\n",
    "X_dev_vect = vectorizer(np.array([[s] for s in X_dev])).numpy()"
   ]
  },
  {
   "cell_type": "markdown",
   "id": "28ad1b50",
   "metadata": {},
   "source": [
    "## Model architecture"
   ]
  },
  {
   "cell_type": "code",
   "execution_count": 9,
   "id": "a3b0e04f",
   "metadata": {},
   "outputs": [],
   "source": [
    "## Best model architecture used after experimenting\n",
    "def create_model(Y_train, emb_matrix, lr):\n",
    "    '''Create the Keras model to use'''\n",
    "    \n",
    "    loss_function = 'binary_crossentropy'\n",
    "    optim = Adam(learning_rate=lr)\n",
    "    \n",
    "    # Take embedding dim and size from emb_matrix\n",
    "    embedding_dim = len(emb_matrix[0])\n",
    "    num_tokens = len(emb_matrix)\n",
    "    \n",
    "    # Now build the model\n",
    "    model = Sequential()\n",
    "    model.add(Embedding(num_tokens, embedding_dim, embeddings_initializer=Constant(emb_matrix),trainable=False))\n",
    "    model.add(LSTM(embedding_dim, dropout=0.2))\n",
    "    model.add(Dense(units=1, activation=\"sigmoid\"))\n",
    "    # Compile model using our settings, check for accuracy\n",
    "    model.compile(loss=loss_function, optimizer=optim, metrics=[get_f1])\n",
    "    return model"
   ]
  },
  {
   "cell_type": "markdown",
   "id": "e5aa094c",
   "metadata": {},
   "source": [
    "## Glove 200d"
   ]
  },
  {
   "cell_type": "code",
   "execution_count": 400,
   "id": "eb2d33e3",
   "metadata": {},
   "outputs": [
    {
     "name": "stdout",
     "output_type": "stream",
     "text": [
      "Epoch 1/50\n"
     ]
    },
    {
     "name": "stderr",
     "output_type": "stream",
     "text": [
      "2022-10-30 17:37:47.041678: I tensorflow/core/grappler/optimizers/custom_graph_optimizer_registry.cc:114] Plugin optimizer for device_type GPU is enabled.\n",
      "2022-10-30 17:37:47.244434: I tensorflow/core/grappler/optimizers/custom_graph_optimizer_registry.cc:114] Plugin optimizer for device_type GPU is enabled.\n",
      "2022-10-30 17:37:47.740464: I tensorflow/core/grappler/optimizers/custom_graph_optimizer_registry.cc:114] Plugin optimizer for device_type GPU is enabled.\n"
     ]
    },
    {
     "name": "stdout",
     "output_type": "stream",
     "text": [
      "383/383 [==============================] - ETA: 0s - loss: 0.9211 - get_f1: 0.3684"
     ]
    },
    {
     "name": "stderr",
     "output_type": "stream",
     "text": [
      "2022-10-30 17:37:59.883037: I tensorflow/core/grappler/optimizers/custom_graph_optimizer_registry.cc:114] Plugin optimizer for device_type GPU is enabled.\n",
      "2022-10-30 17:37:59.962119: I tensorflow/core/grappler/optimizers/custom_graph_optimizer_registry.cc:114] Plugin optimizer for device_type GPU is enabled.\n"
     ]
    },
    {
     "name": "stdout",
     "output_type": "stream",
     "text": [
      "383/383 [==============================] - 15s 35ms/step - loss: 0.9211 - get_f1: 0.3684 - val_loss: 0.6981 - val_get_f1: 0.3379 - lr: 1.0000e-05\n",
      "Epoch 2/50\n",
      "383/383 [==============================] - 10s 27ms/step - loss: 0.9202 - get_f1: 0.3429 - val_loss: 0.6973 - val_get_f1: 0.3393 - lr: 1.0000e-05\n",
      "Epoch 3/50\n",
      "383/383 [==============================] - 10s 27ms/step - loss: 0.9190 - get_f1: 0.3327 - val_loss: 0.6953 - val_get_f1: 0.3225 - lr: 1.0000e-05\n",
      "Epoch 4/50\n",
      "383/383 [==============================] - 10s 26ms/step - loss: 0.9187 - get_f1: 0.3336 - val_loss: 0.6941 - val_get_f1: 0.3194 - lr: 1.0000e-05\n",
      "Epoch 5/50\n",
      "383/383 [==============================] - 10s 26ms/step - loss: 0.9175 - get_f1: 0.3348 - val_loss: 0.6962 - val_get_f1: 0.3326 - lr: 1.0000e-05\n",
      "Epoch 6/50\n",
      "383/383 [==============================] - 10s 26ms/step - loss: 0.9158 - get_f1: 0.3527 - val_loss: 0.6929 - val_get_f1: 0.3377 - lr: 1.0000e-05\n",
      "Epoch 7/50\n",
      "383/383 [==============================] - 10s 26ms/step - loss: 0.9098 - get_f1: 0.3984 - val_loss: 0.6824 - val_get_f1: 0.4772 - lr: 1.0000e-05\n",
      "Epoch 8/50\n",
      "383/383 [==============================] - 10s 26ms/step - loss: 0.8438 - get_f1: 0.5327 - val_loss: 0.5979 - val_get_f1: 0.5990 - lr: 9.0484e-06\n",
      "Epoch 9/50\n",
      "383/383 [==============================] - 10s 26ms/step - loss: 0.7974 - get_f1: 0.5710 - val_loss: 0.5980 - val_get_f1: 0.6182 - lr: 8.1873e-06\n",
      "Epoch 10/50\n",
      "383/383 [==============================] - 10s 27ms/step - loss: 0.7872 - get_f1: 0.5795 - val_loss: 0.5774 - val_get_f1: 0.6227 - lr: 7.4082e-06\n",
      "Epoch 11/50\n",
      "383/383 [==============================] - 10s 25ms/step - loss: 0.7779 - get_f1: 0.5870 - val_loss: 0.5669 - val_get_f1: 0.6220 - lr: 6.7032e-06\n",
      "Epoch 12/50\n",
      "383/383 [==============================] - 9s 25ms/step - loss: 0.7748 - get_f1: 0.5887 - val_loss: 0.5665 - val_get_f1: 0.6309 - lr: 6.0653e-06\n",
      "Epoch 13/50\n",
      "383/383 [==============================] - 10s 26ms/step - loss: 0.7718 - get_f1: 0.5949 - val_loss: 0.5859 - val_get_f1: 0.6304 - lr: 5.4881e-06\n",
      "Epoch 14/50\n",
      "383/383 [==============================] - 10s 26ms/step - loss: 0.7682 - get_f1: 0.5906 - val_loss: 0.5873 - val_get_f1: 0.6315 - lr: 4.9659e-06\n",
      "Epoch 15/50\n",
      "383/383 [==============================] - 10s 26ms/step - loss: 0.7660 - get_f1: 0.5950 - val_loss: 0.5574 - val_get_f1: 0.6371 - lr: 4.4933e-06\n",
      "Epoch 16/50\n",
      "383/383 [==============================] - 10s 26ms/step - loss: 0.7674 - get_f1: 0.5972 - val_loss: 0.5706 - val_get_f1: 0.6300 - lr: 4.0657e-06\n",
      "Epoch 17/50\n",
      "383/383 [==============================] - 10s 26ms/step - loss: 0.7632 - get_f1: 0.6003 - val_loss: 0.5781 - val_get_f1: 0.6349 - lr: 3.6788e-06\n",
      "Epoch 18/50\n",
      "383/383 [==============================] - 10s 26ms/step - loss: 0.7628 - get_f1: 0.6064 - val_loss: 0.5603 - val_get_f1: 0.6319 - lr: 3.3287e-06\n"
     ]
    },
    {
     "name": "stderr",
     "output_type": "stream",
     "text": [
      "2022-10-30 17:40:50.922663: I tensorflow/core/grappler/optimizers/custom_graph_optimizer_registry.cc:114] Plugin optimizer for device_type GPU is enabled.\n",
      "2022-10-30 17:40:50.973813: I tensorflow/core/grappler/optimizers/custom_graph_optimizer_registry.cc:114] Plugin optimizer for device_type GPU is enabled.\n"
     ]
    },
    {
     "name": "stdout",
     "output_type": "stream",
     "text": [
      "32/32 [==============================] - 1s 13ms/step\n",
      "Accuracy on own dev set: 0.718\n",
      "F1 score on dev set (macro): 0.7022489705416535\n",
      "Accuracy on dev set (macro): 0.718\n",
      "Conf Matrix:                precision    recall  f1-score   support\n",
      "\n",
      "           0       0.81      0.73      0.77       648\n",
      "           1       0.58      0.69      0.63       352\n",
      "\n",
      "    accuracy                           0.72      1000\n",
      "   macro avg       0.70      0.71      0.70      1000\n",
      "weighted avg       0.73      0.72      0.72      1000\n",
      "\n"
     ]
    }
   ],
   "source": [
    "#Read embeddings\n",
    "embeddings_ft = read_word_emb(\"embeddings/glove_200d.pkl\")\n",
    "#embeddings matrix\n",
    "emb_matrix = get_emb_matrix(voc, embeddings_ft)\n",
    "# Create model\n",
    "model = create_model(Y_train, emb_matrix, lr=0.00001)\n",
    "# Train the model\n",
    "model = train_model(model, X_train_vect, Y_train_bin, X_dev_vect, Y_dev_bin, 32, 50)\n",
    "y_preds=test_set_predict(model, X_dev_vect, Y_dev_bin, \"dev\")\n",
    "print(\"F1 score on dev set (macro):\",f1_score(Y_dev_bin.flatten(),y_preds,average='macro'))\n",
    "print(\"Accuracy on dev set (macro):\",accuracy_score(Y_dev_bin.flatten(),y_preds))\n",
    "print(\"Conf Matrix: \", classification_report(Y_dev_bin.flatten(), y_preds))"
   ]
  },
  {
   "cell_type": "markdown",
   "id": "39c6b9e5",
   "metadata": {},
   "source": [
    "## Other Embeddings and Dimensions"
   ]
  },
  {
   "cell_type": "code",
   "execution_count": 405,
   "id": "f0239091",
   "metadata": {},
   "outputs": [
    {
     "name": "stdout",
     "output_type": "stream",
     "text": [
      "Epoch 1/50\n"
     ]
    },
    {
     "name": "stderr",
     "output_type": "stream",
     "text": [
      "2022-10-30 17:51:27.283999: I tensorflow/core/grappler/optimizers/custom_graph_optimizer_registry.cc:114] Plugin optimizer for device_type GPU is enabled.\n",
      "2022-10-30 17:51:27.482309: I tensorflow/core/grappler/optimizers/custom_graph_optimizer_registry.cc:114] Plugin optimizer for device_type GPU is enabled.\n",
      "2022-10-30 17:51:27.952570: I tensorflow/core/grappler/optimizers/custom_graph_optimizer_registry.cc:114] Plugin optimizer for device_type GPU is enabled.\n"
     ]
    },
    {
     "name": "stdout",
     "output_type": "stream",
     "text": [
      "383/383 [==============================] - ETA: 0s - loss: 0.9203 - get_f1: 0.3218"
     ]
    },
    {
     "name": "stderr",
     "output_type": "stream",
     "text": [
      "2022-10-30 17:51:37.264567: I tensorflow/core/grappler/optimizers/custom_graph_optimizer_registry.cc:114] Plugin optimizer for device_type GPU is enabled.\n",
      "2022-10-30 17:51:37.346724: I tensorflow/core/grappler/optimizers/custom_graph_optimizer_registry.cc:114] Plugin optimizer for device_type GPU is enabled.\n"
     ]
    },
    {
     "name": "stdout",
     "output_type": "stream",
     "text": [
      "383/383 [==============================] - 13s 27ms/step - loss: 0.9203 - get_f1: 0.3218 - val_loss: 0.6930 - val_get_f1: 0.2899 - lr: 1.0000e-04\n",
      "Epoch 2/50\n",
      "383/383 [==============================] - 8s 22ms/step - loss: 0.9020 - get_f1: 0.3955 - val_loss: 0.5905 - val_get_f1: 0.5869 - lr: 1.0000e-04\n",
      "Epoch 3/50\n",
      "383/383 [==============================] - 8s 20ms/step - loss: 0.8006 - get_f1: 0.5712 - val_loss: 0.5772 - val_get_f1: 0.5983 - lr: 1.0000e-04\n",
      "Epoch 4/50\n",
      "383/383 [==============================] - 7s 19ms/step - loss: 0.7787 - get_f1: 0.5866 - val_loss: 0.6251 - val_get_f1: 0.6129 - lr: 1.0000e-04\n",
      "Epoch 5/50\n",
      "383/383 [==============================] - 7s 19ms/step - loss: 0.7689 - get_f1: 0.5942 - val_loss: 0.5583 - val_get_f1: 0.6048 - lr: 1.0000e-04\n",
      "Epoch 6/50\n",
      "383/383 [==============================] - 7s 19ms/step - loss: 0.7676 - get_f1: 0.5973 - val_loss: 0.5712 - val_get_f1: 0.6073 - lr: 1.0000e-04\n",
      "Epoch 7/50\n",
      "383/383 [==============================] - 7s 19ms/step - loss: 0.7560 - get_f1: 0.6073 - val_loss: 0.6031 - val_get_f1: 0.6251 - lr: 1.0000e-04\n",
      "Epoch 8/50\n",
      "383/383 [==============================] - 7s 19ms/step - loss: 0.7566 - get_f1: 0.6039 - val_loss: 0.5364 - val_get_f1: 0.6168 - lr: 9.0484e-05\n",
      "Epoch 9/50\n",
      "383/383 [==============================] - 7s 19ms/step - loss: 0.7494 - get_f1: 0.6034 - val_loss: 0.5511 - val_get_f1: 0.6138 - lr: 8.1873e-05\n",
      "Epoch 10/50\n",
      "383/383 [==============================] - 7s 19ms/step - loss: 0.7452 - get_f1: 0.6031 - val_loss: 0.5338 - val_get_f1: 0.6189 - lr: 7.4082e-05\n",
      "Epoch 11/50\n",
      "383/383 [==============================] - 7s 19ms/step - loss: 0.7440 - get_f1: 0.6076 - val_loss: 0.5238 - val_get_f1: 0.6007 - lr: 6.7032e-05\n",
      "Epoch 12/50\n",
      "383/383 [==============================] - 7s 19ms/step - loss: 0.7369 - get_f1: 0.6133 - val_loss: 0.5341 - val_get_f1: 0.6125 - lr: 6.0653e-05\n",
      "Epoch 13/50\n",
      "383/383 [==============================] - 7s 19ms/step - loss: 0.7352 - get_f1: 0.6148 - val_loss: 0.5956 - val_get_f1: 0.6267 - lr: 5.4881e-05\n",
      "Epoch 14/50\n",
      "383/383 [==============================] - 7s 19ms/step - loss: 0.7332 - get_f1: 0.6214 - val_loss: 0.5360 - val_get_f1: 0.6294 - lr: 4.9659e-05\n"
     ]
    },
    {
     "name": "stderr",
     "output_type": "stream",
     "text": [
      "2022-10-30 17:53:14.798648: I tensorflow/core/grappler/optimizers/custom_graph_optimizer_registry.cc:114] Plugin optimizer for device_type GPU is enabled.\n",
      "2022-10-30 17:53:14.852226: I tensorflow/core/grappler/optimizers/custom_graph_optimizer_registry.cc:114] Plugin optimizer for device_type GPU is enabled.\n"
     ]
    },
    {
     "name": "stdout",
     "output_type": "stream",
     "text": [
      "32/32 [==============================] - 1s 12ms/step\n",
      "Accuracy on own dev set: 0.732\n",
      "embeddings/glove_100d.pkl\n",
      "F1 score on dev set (macro): 0.7132045750291076\n",
      "Accuracy on dev set (macro): 0.732\n",
      "Conf Matrix:                precision    recall  f1-score   support\n",
      "\n",
      "           0       0.81      0.76      0.79       648\n",
      "           1       0.61      0.68      0.64       352\n",
      "\n",
      "    accuracy                           0.73      1000\n",
      "   macro avg       0.71      0.72      0.71      1000\n",
      "weighted avg       0.74      0.73      0.73      1000\n",
      "\n",
      "\n",
      "\n",
      "\n",
      "Epoch 1/50\n"
     ]
    },
    {
     "name": "stderr",
     "output_type": "stream",
     "text": [
      "2022-10-30 17:53:16.408459: I tensorflow/core/grappler/optimizers/custom_graph_optimizer_registry.cc:114] Plugin optimizer for device_type GPU is enabled.\n",
      "2022-10-30 17:53:16.600289: I tensorflow/core/grappler/optimizers/custom_graph_optimizer_registry.cc:114] Plugin optimizer for device_type GPU is enabled.\n",
      "2022-10-30 17:53:17.087753: I tensorflow/core/grappler/optimizers/custom_graph_optimizer_registry.cc:114] Plugin optimizer for device_type GPU is enabled.\n"
     ]
    },
    {
     "name": "stdout",
     "output_type": "stream",
     "text": [
      "383/383 [==============================] - ETA: 0s - loss: 0.9206 - get_f1: 0.3154"
     ]
    },
    {
     "name": "stderr",
     "output_type": "stream",
     "text": [
      "2022-10-30 17:53:25.624323: I tensorflow/core/grappler/optimizers/custom_graph_optimizer_registry.cc:114] Plugin optimizer for device_type GPU is enabled.\n",
      "2022-10-30 17:53:25.705831: I tensorflow/core/grappler/optimizers/custom_graph_optimizer_registry.cc:114] Plugin optimizer for device_type GPU is enabled.\n"
     ]
    },
    {
     "name": "stdout",
     "output_type": "stream",
     "text": [
      "383/383 [==============================] - 11s 25ms/step - loss: 0.9206 - get_f1: 0.3154 - val_loss: 0.6947 - val_get_f1: 0.2855 - lr: 1.0000e-04\n",
      "Epoch 2/50\n",
      "383/383 [==============================] - 7s 19ms/step - loss: 0.9189 - get_f1: 0.3038 - val_loss: 0.6902 - val_get_f1: 0.3077 - lr: 1.0000e-04\n",
      "Epoch 3/50\n",
      "383/383 [==============================] - 7s 17ms/step - loss: 0.8710 - get_f1: 0.4738 - val_loss: 0.6261 - val_get_f1: 0.5973 - lr: 1.0000e-04\n",
      "Epoch 4/50\n",
      "383/383 [==============================] - 7s 18ms/step - loss: 0.8174 - get_f1: 0.5520 - val_loss: 0.6554 - val_get_f1: 0.5923 - lr: 1.0000e-04\n",
      "Epoch 5/50\n",
      "383/383 [==============================] - 7s 18ms/step - loss: 0.8072 - get_f1: 0.5669 - val_loss: 0.6022 - val_get_f1: 0.6118 - lr: 1.0000e-04\n",
      "Epoch 6/50\n",
      "383/383 [==============================] - 7s 17ms/step - loss: 0.7983 - get_f1: 0.5757 - val_loss: 0.5809 - val_get_f1: 0.5923 - lr: 1.0000e-04\n",
      "Epoch 7/50\n",
      "383/383 [==============================] - 7s 17ms/step - loss: 0.7948 - get_f1: 0.5694 - val_loss: 0.5892 - val_get_f1: 0.6154 - lr: 1.0000e-04\n",
      "Epoch 8/50\n",
      "383/383 [==============================] - 7s 17ms/step - loss: 0.7941 - get_f1: 0.5784 - val_loss: 0.5698 - val_get_f1: 0.5904 - lr: 9.0484e-05\n",
      "Epoch 9/50\n",
      "383/383 [==============================] - 7s 17ms/step - loss: 0.7853 - get_f1: 0.5793 - val_loss: 0.5762 - val_get_f1: 0.6016 - lr: 8.1873e-05\n",
      "Epoch 10/50\n",
      "383/383 [==============================] - 7s 19ms/step - loss: 0.7885 - get_f1: 0.5762 - val_loss: 0.5699 - val_get_f1: 0.6102 - lr: 7.4082e-05\n",
      "Epoch 11/50\n",
      "383/383 [==============================] - 7s 18ms/step - loss: 0.7825 - get_f1: 0.5828 - val_loss: 0.5619 - val_get_f1: 0.6054 - lr: 6.7032e-05\n",
      "Epoch 12/50\n",
      "383/383 [==============================] - 7s 17ms/step - loss: 0.7810 - get_f1: 0.5810 - val_loss: 0.5640 - val_get_f1: 0.6070 - lr: 6.0653e-05\n",
      "Epoch 13/50\n",
      "383/383 [==============================] - 7s 17ms/step - loss: 0.7732 - get_f1: 0.5928 - val_loss: 0.6156 - val_get_f1: 0.6113 - lr: 5.4881e-05\n",
      "Epoch 14/50\n",
      "383/383 [==============================] - 7s 17ms/step - loss: 0.7768 - get_f1: 0.5879 - val_loss: 0.5699 - val_get_f1: 0.6164 - lr: 4.9659e-05\n"
     ]
    },
    {
     "name": "stderr",
     "output_type": "stream",
     "text": [
      "2022-10-30 17:54:54.495170: I tensorflow/core/grappler/optimizers/custom_graph_optimizer_registry.cc:114] Plugin optimizer for device_type GPU is enabled.\n",
      "2022-10-30 17:54:54.546098: I tensorflow/core/grappler/optimizers/custom_graph_optimizer_registry.cc:114] Plugin optimizer for device_type GPU is enabled.\n"
     ]
    },
    {
     "name": "stdout",
     "output_type": "stream",
     "text": [
      "32/32 [==============================] - 1s 11ms/step\n",
      "Accuracy on own dev set: 0.715\n",
      "embeddings/glove_50d.pkl\n",
      "F1 score on dev set (macro): 0.6980391616719519\n",
      "Accuracy on dev set (macro): 0.715\n",
      "Conf Matrix:                precision    recall  f1-score   support\n",
      "\n",
      "           0       0.81      0.73      0.77       648\n",
      "           1       0.58      0.68      0.63       352\n",
      "\n",
      "    accuracy                           0.71      1000\n",
      "   macro avg       0.69      0.71      0.70      1000\n",
      "weighted avg       0.73      0.71      0.72      1000\n",
      "\n",
      "\n",
      "\n",
      "\n",
      "Epoch 1/50\n"
     ]
    },
    {
     "name": "stderr",
     "output_type": "stream",
     "text": [
      "2022-10-30 17:54:56.611253: I tensorflow/core/grappler/optimizers/custom_graph_optimizer_registry.cc:114] Plugin optimizer for device_type GPU is enabled.\n",
      "2022-10-30 17:54:56.840667: I tensorflow/core/grappler/optimizers/custom_graph_optimizer_registry.cc:114] Plugin optimizer for device_type GPU is enabled.\n",
      "2022-10-30 17:54:57.364878: I tensorflow/core/grappler/optimizers/custom_graph_optimizer_registry.cc:114] Plugin optimizer for device_type GPU is enabled.\n"
     ]
    },
    {
     "name": "stdout",
     "output_type": "stream",
     "text": [
      "383/383 [==============================] - ETA: 0s - loss: 0.9210 - get_f1: 0.3299"
     ]
    },
    {
     "name": "stderr",
     "output_type": "stream",
     "text": [
      "2022-10-30 17:55:06.421804: I tensorflow/core/grappler/optimizers/custom_graph_optimizer_registry.cc:114] Plugin optimizer for device_type GPU is enabled.\n",
      "2022-10-30 17:55:06.510506: I tensorflow/core/grappler/optimizers/custom_graph_optimizer_registry.cc:114] Plugin optimizer for device_type GPU is enabled.\n"
     ]
    },
    {
     "name": "stdout",
     "output_type": "stream",
     "text": [
      "383/383 [==============================] - 12s 26ms/step - loss: 0.9210 - get_f1: 0.3299 - val_loss: 0.6980 - val_get_f1: 0.3183 - lr: 1.0000e-04\n",
      "Epoch 2/50\n",
      "383/383 [==============================] - 7s 18ms/step - loss: 0.9196 - get_f1: 0.3072 - val_loss: 0.6961 - val_get_f1: 0.3030 - lr: 1.0000e-04\n",
      "Epoch 3/50\n",
      "383/383 [==============================] - 7s 18ms/step - loss: 0.9184 - get_f1: 0.3113 - val_loss: 0.6937 - val_get_f1: 0.3308 - lr: 1.0000e-04\n",
      "Epoch 4/50\n",
      "383/383 [==============================] - 7s 17ms/step - loss: 0.9164 - get_f1: 0.3363 - val_loss: 0.6904 - val_get_f1: 0.3449 - lr: 1.0000e-04\n",
      "Epoch 5/50\n",
      "383/383 [==============================] - 7s 18ms/step - loss: 0.9038 - get_f1: 0.4296 - val_loss: 0.6749 - val_get_f1: 0.5524 - lr: 1.0000e-04\n",
      "Epoch 6/50\n",
      "383/383 [==============================] - 7s 17ms/step - loss: 0.8592 - get_f1: 0.5236 - val_loss: 0.6655 - val_get_f1: 0.5695 - lr: 1.0000e-04\n",
      "Epoch 7/50\n",
      "383/383 [==============================] - 7s 18ms/step - loss: 0.8501 - get_f1: 0.5297 - val_loss: 0.6775 - val_get_f1: 0.5764 - lr: 1.0000e-04\n",
      "Epoch 8/50\n",
      "383/383 [==============================] - 7s 17ms/step - loss: 0.8407 - get_f1: 0.5396 - val_loss: 0.6658 - val_get_f1: 0.5736 - lr: 9.0484e-05\n",
      "Epoch 9/50\n",
      "383/383 [==============================] - 7s 17ms/step - loss: 0.8400 - get_f1: 0.5407 - val_loss: 0.6601 - val_get_f1: 0.5835 - lr: 8.1873e-05\n",
      "Epoch 10/50\n",
      "383/383 [==============================] - 7s 17ms/step - loss: 0.8314 - get_f1: 0.5442 - val_loss: 0.6418 - val_get_f1: 0.5851 - lr: 7.4082e-05\n",
      "Epoch 11/50\n",
      "383/383 [==============================] - 7s 17ms/step - loss: 0.8317 - get_f1: 0.5460 - val_loss: 0.6374 - val_get_f1: 0.5853 - lr: 6.7032e-05\n",
      "Epoch 12/50\n",
      "383/383 [==============================] - 7s 18ms/step - loss: 0.8305 - get_f1: 0.5449 - val_loss: 0.6510 - val_get_f1: 0.5879 - lr: 6.0653e-05\n",
      "Epoch 13/50\n",
      "383/383 [==============================] - 6s 17ms/step - loss: 0.8233 - get_f1: 0.5517 - val_loss: 0.6807 - val_get_f1: 0.5836 - lr: 5.4881e-05\n",
      "Epoch 14/50\n",
      "383/383 [==============================] - 7s 18ms/step - loss: 0.8232 - get_f1: 0.5543 - val_loss: 0.6719 - val_get_f1: 0.5888 - lr: 4.9659e-05\n"
     ]
    },
    {
     "name": "stderr",
     "output_type": "stream",
     "text": [
      "2022-10-30 17:56:35.126189: I tensorflow/core/grappler/optimizers/custom_graph_optimizer_registry.cc:114] Plugin optimizer for device_type GPU is enabled.\n",
      "2022-10-30 17:56:35.179386: I tensorflow/core/grappler/optimizers/custom_graph_optimizer_registry.cc:114] Plugin optimizer for device_type GPU is enabled.\n"
     ]
    },
    {
     "name": "stdout",
     "output_type": "stream",
     "text": [
      "32/32 [==============================] - 1s 12ms/step\n",
      "Accuracy on own dev set: 0.615\n",
      "embeddings/glove_25d.pkl\n",
      "F1 score on dev set (macro): 0.6144135229684349\n",
      "Accuracy on dev set (macro): 0.615\n",
      "Conf Matrix:                precision    recall  f1-score   support\n",
      "\n",
      "           0       0.84      0.50      0.63       648\n",
      "           1       0.47      0.82      0.60       352\n",
      "\n",
      "    accuracy                           0.61      1000\n",
      "   macro avg       0.65      0.66      0.61      1000\n",
      "weighted avg       0.71      0.61      0.62      1000\n",
      "\n",
      "\n",
      "\n",
      "\n",
      "Epoch 1/50\n"
     ]
    },
    {
     "name": "stderr",
     "output_type": "stream",
     "text": [
      "2022-10-30 17:56:36.830564: I tensorflow/core/grappler/optimizers/custom_graph_optimizer_registry.cc:114] Plugin optimizer for device_type GPU is enabled.\n",
      "2022-10-30 17:56:37.051252: I tensorflow/core/grappler/optimizers/custom_graph_optimizer_registry.cc:114] Plugin optimizer for device_type GPU is enabled.\n",
      "2022-10-30 17:56:37.579725: I tensorflow/core/grappler/optimizers/custom_graph_optimizer_registry.cc:114] Plugin optimizer for device_type GPU is enabled.\n"
     ]
    },
    {
     "name": "stdout",
     "output_type": "stream",
     "text": [
      "383/383 [==============================] - ETA: 0s - loss: 0.8723 - get_f1: 0.4601"
     ]
    },
    {
     "name": "stderr",
     "output_type": "stream",
     "text": [
      "2022-10-30 17:56:50.080373: I tensorflow/core/grappler/optimizers/custom_graph_optimizer_registry.cc:114] Plugin optimizer for device_type GPU is enabled.\n",
      "2022-10-30 17:56:50.166298: I tensorflow/core/grappler/optimizers/custom_graph_optimizer_registry.cc:114] Plugin optimizer for device_type GPU is enabled.\n"
     ]
    },
    {
     "name": "stdout",
     "output_type": "stream",
     "text": [
      "383/383 [==============================] - 15s 36ms/step - loss: 0.8723 - get_f1: 0.4601 - val_loss: 0.5558 - val_get_f1: 0.6087 - lr: 1.0000e-04\n",
      "Epoch 2/50\n",
      "383/383 [==============================] - 10s 27ms/step - loss: 0.7798 - get_f1: 0.5805 - val_loss: 0.5590 - val_get_f1: 0.6388 - lr: 1.0000e-04\n",
      "Epoch 3/50\n",
      "383/383 [==============================] - 10s 26ms/step - loss: 0.7579 - get_f1: 0.6026 - val_loss: 0.5398 - val_get_f1: 0.6429 - lr: 1.0000e-04\n",
      "Epoch 4/50\n",
      "383/383 [==============================] - 11s 28ms/step - loss: 0.7535 - get_f1: 0.6045 - val_loss: 0.6177 - val_get_f1: 0.6207 - lr: 1.0000e-04\n",
      "Epoch 5/50\n",
      "383/383 [==============================] - 10s 27ms/step - loss: 0.7485 - get_f1: 0.6121 - val_loss: 0.5689 - val_get_f1: 0.6358 - lr: 1.0000e-04\n",
      "Epoch 6/50\n",
      "383/383 [==============================] - 10s 27ms/step - loss: 0.7452 - get_f1: 0.6170 - val_loss: 0.5448 - val_get_f1: 0.6517 - lr: 1.0000e-04\n"
     ]
    },
    {
     "name": "stderr",
     "output_type": "stream",
     "text": [
      "2022-10-30 17:57:43.518486: I tensorflow/core/grappler/optimizers/custom_graph_optimizer_registry.cc:114] Plugin optimizer for device_type GPU is enabled.\n",
      "2022-10-30 17:57:43.572252: I tensorflow/core/grappler/optimizers/custom_graph_optimizer_registry.cc:114] Plugin optimizer for device_type GPU is enabled.\n"
     ]
    },
    {
     "name": "stdout",
     "output_type": "stream",
     "text": [
      "32/32 [==============================] - 1s 13ms/step\n",
      "Accuracy on own dev set: 0.745\n",
      "embeddings/fasttext.pkl\n",
      "F1 score on dev set (macro): 0.7295517240282158\n",
      "Accuracy on dev set (macro): 0.745\n",
      "Conf Matrix:                precision    recall  f1-score   support\n",
      "\n",
      "           0       0.83      0.76      0.79       648\n",
      "           1       0.62      0.72      0.66       352\n",
      "\n",
      "    accuracy                           0.74      1000\n",
      "   macro avg       0.73      0.74      0.73      1000\n",
      "weighted avg       0.76      0.74      0.75      1000\n",
      "\n",
      "\n",
      "\n",
      "\n"
     ]
    }
   ],
   "source": [
    "emb_file=[\"embeddings/glove_100d.pkl\",\"embeddings/glove_50d.pkl\",\n",
    "          \"embeddings/glove_25d.pkl\",\"embeddings/fasttext.pkl\"]\n",
    "\n",
    "for emb in emb_file:\n",
    "    embeddings = read_word_emb(emb)\n",
    "    emb_matrix = get_emb_matrix(voc, embeddings)\n",
    "    \n",
    "    # Create model\n",
    "    model = create_model(Y_train, emb_matrix,0.0001)\n",
    "    # Train the model\n",
    "    model = train_model(model, X_train_vect, Y_train_bin, X_dev_vect, Y_dev_bin, 32, 50)\n",
    "    y_preds=test_set_predict(model, X_dev_vect, Y_dev_bin, \"dev\")\n",
    "    print(emb)\n",
    "    print(\"F1 score on dev set (macro):\",f1_score(Y_dev_bin.flatten(),y_preds,average='macro'))\n",
    "    print(\"Accuracy on dev set (macro):\",accuracy_score(Y_dev_bin.flatten(),y_preds))\n",
    "    print(\"Conf Matrix: \", classification_report(Y_dev_bin.flatten(), y_preds))\n",
    "    print(\"\\n\\n\")"
   ]
  },
  {
   "cell_type": "markdown",
   "id": "22eb3259",
   "metadata": {},
   "source": [
    "## Optimizing Learning Rate"
   ]
  },
  {
   "cell_type": "code",
   "execution_count": 36,
   "id": "a04a0c09",
   "metadata": {},
   "outputs": [
    {
     "name": "stdout",
     "output_type": "stream",
     "text": [
      "Epoch 1/50\n"
     ]
    },
    {
     "name": "stderr",
     "output_type": "stream",
     "text": [
      "2022-10-30 20:28:11.521539: I tensorflow/core/grappler/optimizers/custom_graph_optimizer_registry.cc:114] Plugin optimizer for device_type GPU is enabled.\n",
      "2022-10-30 20:28:11.645868: I tensorflow/core/grappler/optimizers/custom_graph_optimizer_registry.cc:114] Plugin optimizer for device_type GPU is enabled.\n"
     ]
    },
    {
     "name": "stdout",
     "output_type": "stream",
     "text": [
      "\r",
      "  1/383 [..............................] - ETA: 7:47 - loss: 0.9329 - get_f1: 0.2000"
     ]
    },
    {
     "name": "stderr",
     "output_type": "stream",
     "text": [
      "2022-10-30 20:28:11.839234: I tensorflow/core/grappler/optimizers/custom_graph_optimizer_registry.cc:114] Plugin optimizer for device_type GPU is enabled.\n"
     ]
    },
    {
     "name": "stdout",
     "output_type": "stream",
     "text": [
      "383/383 [==============================] - ETA: 0s - loss: 0.9281 - get_f1: 0.2619"
     ]
    },
    {
     "name": "stderr",
     "output_type": "stream",
     "text": [
      "2022-10-30 20:28:21.600657: I tensorflow/core/grappler/optimizers/custom_graph_optimizer_registry.cc:114] Plugin optimizer for device_type GPU is enabled.\n",
      "2022-10-30 20:28:21.640659: I tensorflow/core/grappler/optimizers/custom_graph_optimizer_registry.cc:114] Plugin optimizer for device_type GPU is enabled.\n"
     ]
    },
    {
     "name": "stdout",
     "output_type": "stream",
     "text": [
      "383/383 [==============================] - 11s 27ms/step - loss: 0.9281 - get_f1: 0.2619 - val_loss: 0.7078 - val_get_f1: 0.5153 - lr: 0.0100\n",
      "Epoch 2/50\n",
      "383/383 [==============================] - 10s 25ms/step - loss: 0.9568 - get_f1: 0.2590 - val_loss: 0.6487 - val_get_f1: 0.0000e+00 - lr: 0.0100\n",
      "Epoch 3/50\n",
      "383/383 [==============================] - 10s 25ms/step - loss: 0.9479 - get_f1: 0.2381 - val_loss: 0.6492 - val_get_f1: 0.0000e+00 - lr: 0.0100\n",
      "Epoch 4/50\n",
      "383/383 [==============================] - 10s 26ms/step - loss: 0.9456 - get_f1: 0.2348 - val_loss: 0.7256 - val_get_f1: 0.5153 - lr: 0.0100\n",
      "Epoch 5/50\n",
      "383/383 [==============================] - 10s 26ms/step - loss: 0.9499 - get_f1: 0.2614 - val_loss: 0.6905 - val_get_f1: 0.3733 - lr: 0.0100\n",
      "15/32 [=============>................] - ETA: 0s"
     ]
    },
    {
     "name": "stderr",
     "output_type": "stream",
     "text": [
      "2022-10-30 20:29:01.445360: I tensorflow/core/grappler/optimizers/custom_graph_optimizer_registry.cc:114] Plugin optimizer for device_type GPU is enabled.\n",
      "2022-10-30 20:29:01.472094: I tensorflow/core/grappler/optimizers/custom_graph_optimizer_registry.cc:114] Plugin optimizer for device_type GPU is enabled.\n"
     ]
    },
    {
     "name": "stdout",
     "output_type": "stream",
     "text": [
      "32/32 [==============================] - 1s 10ms/step\n",
      "Accuracy on own dev set: 0.532\n",
      "0.01\n",
      "F1 score on dev set (macro): 0.5023732965855152\n",
      "Accuracy on dev set (macro): 0.532\n",
      "Conf Matrix:                precision    recall  f1-score   support\n",
      "\n",
      "           0       0.65      0.60      0.62       648\n",
      "           1       0.36      0.41      0.38       352\n",
      "\n",
      "    accuracy                           0.53      1000\n",
      "   macro avg       0.50      0.50      0.50      1000\n",
      "weighted avg       0.55      0.53      0.54      1000\n",
      "\n",
      "\n",
      "\n",
      "\n",
      "Epoch 1/50\n"
     ]
    },
    {
     "name": "stderr",
     "output_type": "stream",
     "text": [
      "2022-10-30 20:29:02.632472: I tensorflow/core/grappler/optimizers/custom_graph_optimizer_registry.cc:114] Plugin optimizer for device_type GPU is enabled.\n",
      "2022-10-30 20:29:02.726573: I tensorflow/core/grappler/optimizers/custom_graph_optimizer_registry.cc:114] Plugin optimizer for device_type GPU is enabled.\n"
     ]
    },
    {
     "name": "stdout",
     "output_type": "stream",
     "text": [
      "  3/383 [..............................] - ETA: 11s - loss: 3.2759 - get_f1: 0.2374 "
     ]
    },
    {
     "name": "stderr",
     "output_type": "stream",
     "text": [
      "2022-10-30 20:29:02.852774: I tensorflow/core/grappler/optimizers/custom_graph_optimizer_registry.cc:114] Plugin optimizer for device_type GPU is enabled.\n"
     ]
    },
    {
     "name": "stdout",
     "output_type": "stream",
     "text": [
      "383/383 [==============================] - ETA: 0s - loss: 1.0350 - get_f1: 0.2527"
     ]
    },
    {
     "name": "stderr",
     "output_type": "stream",
     "text": [
      "2022-10-30 20:29:12.231341: I tensorflow/core/grappler/optimizers/custom_graph_optimizer_registry.cc:114] Plugin optimizer for device_type GPU is enabled.\n",
      "2022-10-30 20:29:12.272312: I tensorflow/core/grappler/optimizers/custom_graph_optimizer_registry.cc:114] Plugin optimizer for device_type GPU is enabled.\n"
     ]
    },
    {
     "name": "stdout",
     "output_type": "stream",
     "text": [
      "383/383 [==============================] - 11s 26ms/step - loss: 1.0350 - get_f1: 0.2527 - val_loss: 0.6674 - val_get_f1: 0.0000e+00 - lr: 0.0500\n",
      "Epoch 2/50\n",
      "383/383 [==============================] - 9s 24ms/step - loss: 1.1048 - get_f1: 0.2585 - val_loss: 1.0237 - val_get_f1: 0.0000e+00 - lr: 0.0500\n",
      "Epoch 3/50\n",
      "383/383 [==============================] - 9s 24ms/step - loss: 1.0957 - get_f1: 0.2576 - val_loss: 0.9771 - val_get_f1: 0.5153 - lr: 0.0500\n",
      "Epoch 4/50\n",
      "383/383 [==============================] - 10s 26ms/step - loss: 1.0218 - get_f1: 0.2680 - val_loss: 0.7389 - val_get_f1: 0.5178 - lr: 0.0500\n",
      "14/32 [============>.................] - ETA: 0s"
     ]
    },
    {
     "name": "stderr",
     "output_type": "stream",
     "text": [
      "2022-10-30 20:29:41.291960: I tensorflow/core/grappler/optimizers/custom_graph_optimizer_registry.cc:114] Plugin optimizer for device_type GPU is enabled.\n",
      "2022-10-30 20:29:41.318838: I tensorflow/core/grappler/optimizers/custom_graph_optimizer_registry.cc:114] Plugin optimizer for device_type GPU is enabled.\n"
     ]
    },
    {
     "name": "stdout",
     "output_type": "stream",
     "text": [
      "32/32 [==============================] - 0s 9ms/step\n",
      "Accuracy on own dev set: 0.37\n",
      "0.05\n",
      "F1 score on dev set (macro): 0.30011198208286677\n",
      "Accuracy on dev set (macro): 0.37\n",
      "Conf Matrix:                precision    recall  f1-score   support\n",
      "\n",
      "           0       0.75      0.04      0.08       648\n",
      "           1       0.36      0.97      0.52       352\n",
      "\n",
      "    accuracy                           0.37      1000\n",
      "   macro avg       0.55      0.51      0.30      1000\n",
      "weighted avg       0.61      0.37      0.23      1000\n",
      "\n",
      "\n",
      "\n",
      "\n",
      "Epoch 1/50\n"
     ]
    },
    {
     "name": "stderr",
     "output_type": "stream",
     "text": [
      "2022-10-30 20:29:42.462672: I tensorflow/core/grappler/optimizers/custom_graph_optimizer_registry.cc:114] Plugin optimizer for device_type GPU is enabled.\n",
      "2022-10-30 20:29:42.560069: I tensorflow/core/grappler/optimizers/custom_graph_optimizer_registry.cc:114] Plugin optimizer for device_type GPU is enabled.\n"
     ]
    },
    {
     "name": "stdout",
     "output_type": "stream",
     "text": [
      "  3/383 [..............................] - ETA: 12s - loss: 0.9368 - get_f1: 0.3525 "
     ]
    },
    {
     "name": "stderr",
     "output_type": "stream",
     "text": [
      "2022-10-30 20:29:42.692430: I tensorflow/core/grappler/optimizers/custom_graph_optimizer_registry.cc:114] Plugin optimizer for device_type GPU is enabled.\n"
     ]
    },
    {
     "name": "stdout",
     "output_type": "stream",
     "text": [
      "383/383 [==============================] - ETA: 0s - loss: 0.9209 - get_f1: 0.2949"
     ]
    },
    {
     "name": "stderr",
     "output_type": "stream",
     "text": [
      "2022-10-30 20:29:53.010428: I tensorflow/core/grappler/optimizers/custom_graph_optimizer_registry.cc:114] Plugin optimizer for device_type GPU is enabled.\n",
      "2022-10-30 20:29:53.051523: I tensorflow/core/grappler/optimizers/custom_graph_optimizer_registry.cc:114] Plugin optimizer for device_type GPU is enabled.\n"
     ]
    },
    {
     "name": "stdout",
     "output_type": "stream",
     "text": [
      "383/383 [==============================] - 12s 28ms/step - loss: 0.9209 - get_f1: 0.2949 - val_loss: 0.6703 - val_get_f1: 0.2549 - lr: 0.0010\n",
      "Epoch 2/50\n",
      "383/383 [==============================] - 10s 26ms/step - loss: 0.9201 - get_f1: 0.3282 - val_loss: 0.6955 - val_get_f1: 0.3392 - lr: 0.0010\n",
      "Epoch 3/50\n",
      "383/383 [==============================] - 10s 25ms/step - loss: 0.9213 - get_f1: 0.2967 - val_loss: 0.7042 - val_get_f1: 0.5170 - lr: 0.0010\n",
      "Epoch 4/50\n",
      "383/383 [==============================] - 10s 26ms/step - loss: 0.9256 - get_f1: 0.2854 - val_loss: 0.7017 - val_get_f1: 0.4376 - lr: 0.0010\n",
      " 7/32 [=====>........................] - ETA: 0s"
     ]
    },
    {
     "name": "stderr",
     "output_type": "stream",
     "text": [
      "2022-10-30 20:30:23.497623: I tensorflow/core/grappler/optimizers/custom_graph_optimizer_registry.cc:114] Plugin optimizer for device_type GPU is enabled.\n",
      "2022-10-30 20:30:23.524037: I tensorflow/core/grappler/optimizers/custom_graph_optimizer_registry.cc:114] Plugin optimizer for device_type GPU is enabled.\n"
     ]
    },
    {
     "name": "stdout",
     "output_type": "stream",
     "text": [
      "32/32 [==============================] - 0s 9ms/step\n",
      "Accuracy on own dev set: 0.47\n",
      "0.001\n",
      "F1 score on dev set (macro): 0.46808510638297873\n",
      "Accuracy on dev set (macro): 0.47\n",
      "Conf Matrix:                precision    recall  f1-score   support\n",
      "\n",
      "           0       0.64      0.41      0.50       648\n",
      "           1       0.35      0.58      0.44       352\n",
      "\n",
      "    accuracy                           0.47      1000\n",
      "   macro avg       0.50      0.50      0.47      1000\n",
      "weighted avg       0.54      0.47      0.48      1000\n",
      "\n",
      "\n",
      "\n",
      "\n",
      "Epoch 1/50\n"
     ]
    },
    {
     "name": "stderr",
     "output_type": "stream",
     "text": [
      "2022-10-30 20:30:24.664617: I tensorflow/core/grappler/optimizers/custom_graph_optimizer_registry.cc:114] Plugin optimizer for device_type GPU is enabled.\n",
      "2022-10-30 20:30:24.759210: I tensorflow/core/grappler/optimizers/custom_graph_optimizer_registry.cc:114] Plugin optimizer for device_type GPU is enabled.\n"
     ]
    },
    {
     "name": "stdout",
     "output_type": "stream",
     "text": [
      "  3/383 [..............................] - ETA: 11s - loss: 0.9480 - get_f1: 0.4498 "
     ]
    },
    {
     "name": "stderr",
     "output_type": "stream",
     "text": [
      "2022-10-30 20:30:24.891469: I tensorflow/core/grappler/optimizers/custom_graph_optimizer_registry.cc:114] Plugin optimizer for device_type GPU is enabled.\n"
     ]
    },
    {
     "name": "stdout",
     "output_type": "stream",
     "text": [
      "383/383 [==============================] - ETA: 0s - loss: 0.9239 - get_f1: 0.2795"
     ]
    },
    {
     "name": "stderr",
     "output_type": "stream",
     "text": [
      "2022-10-30 20:30:34.932994: I tensorflow/core/grappler/optimizers/custom_graph_optimizer_registry.cc:114] Plugin optimizer for device_type GPU is enabled.\n",
      "2022-10-30 20:30:34.974553: I tensorflow/core/grappler/optimizers/custom_graph_optimizer_registry.cc:114] Plugin optimizer for device_type GPU is enabled.\n"
     ]
    },
    {
     "name": "stdout",
     "output_type": "stream",
     "text": [
      "383/383 [==============================] - 12s 28ms/step - loss: 0.9239 - get_f1: 0.2795 - val_loss: 0.6812 - val_get_f1: 0.1229 - lr: 0.0050\n",
      "Epoch 2/50\n",
      "383/383 [==============================] - 10s 26ms/step - loss: 0.9547 - get_f1: 0.2586 - val_loss: 0.6609 - val_get_f1: 0.0000e+00 - lr: 0.0050\n",
      "Epoch 3/50\n",
      "383/383 [==============================] - 10s 27ms/step - loss: 0.9452 - get_f1: 0.2408 - val_loss: 0.6481 - val_get_f1: 0.0000e+00 - lr: 0.0050\n",
      "Epoch 4/50\n",
      "383/383 [==============================] - 10s 25ms/step - loss: 0.9387 - get_f1: 0.2660 - val_loss: 0.7253 - val_get_f1: 0.5153 - lr: 0.0050\n",
      "Epoch 5/50\n",
      "383/383 [==============================] - 10s 25ms/step - loss: 0.9246 - get_f1: 0.2837 - val_loss: 0.6853 - val_get_f1: 0.0770 - lr: 0.0050\n",
      "Epoch 6/50\n",
      "383/383 [==============================] - 10s 25ms/step - loss: 0.8699 - get_f1: 0.3905 - val_loss: 0.5603 - val_get_f1: 0.6391 - lr: 0.0050\n",
      "Epoch 7/50\n",
      "383/383 [==============================] - 10s 26ms/step - loss: 0.7410 - get_f1: 0.6184 - val_loss: 0.6085 - val_get_f1: 0.6387 - lr: 0.0050\n",
      "Epoch 8/50\n",
      "383/383 [==============================] - 10s 25ms/step - loss: 0.7059 - get_f1: 0.6513 - val_loss: 0.5476 - val_get_f1: 0.6576 - lr: 0.0045\n",
      "Epoch 9/50\n",
      "383/383 [==============================] - 10s 25ms/step - loss: 0.6775 - get_f1: 0.6701 - val_loss: 0.5173 - val_get_f1: 0.6472 - lr: 0.0041\n",
      "Epoch 10/50\n",
      "383/383 [==============================] - 10s 25ms/step - loss: 0.6573 - get_f1: 0.6769 - val_loss: 0.5118 - val_get_f1: 0.6546 - lr: 0.0037\n",
      "Epoch 11/50\n",
      "383/383 [==============================] - 10s 26ms/step - loss: 0.6270 - get_f1: 0.6988 - val_loss: 0.5135 - val_get_f1: 0.6466 - lr: 0.0034\n",
      "Epoch 12/50\n",
      "383/383 [==============================] - 9s 25ms/step - loss: 0.5956 - get_f1: 0.7118 - val_loss: 0.5296 - val_get_f1: 0.6471 - lr: 0.0030\n",
      "Epoch 13/50\n",
      "383/383 [==============================] - 10s 25ms/step - loss: 0.5666 - get_f1: 0.7376 - val_loss: 0.5799 - val_get_f1: 0.6528 - lr: 0.0027\n",
      " 6/32 [====>.........................] - ETA: 0s "
     ]
    },
    {
     "name": "stderr",
     "output_type": "stream",
     "text": [
      "2022-10-30 20:32:32.667577: I tensorflow/core/grappler/optimizers/custom_graph_optimizer_registry.cc:114] Plugin optimizer for device_type GPU is enabled.\n",
      "2022-10-30 20:32:32.695175: I tensorflow/core/grappler/optimizers/custom_graph_optimizer_registry.cc:114] Plugin optimizer for device_type GPU is enabled.\n"
     ]
    },
    {
     "name": "stdout",
     "output_type": "stream",
     "text": [
      "32/32 [==============================] - 1s 12ms/step\n",
      "Accuracy on own dev set: 0.718\n",
      "0.005\n",
      "F1 score on dev set (macro): 0.7089855359619576\n",
      "Accuracy on dev set (macro): 0.718\n",
      "Conf Matrix:                precision    recall  f1-score   support\n",
      "\n",
      "           0       0.85      0.69      0.76       648\n",
      "           1       0.57      0.77      0.66       352\n",
      "\n",
      "    accuracy                           0.72      1000\n",
      "   macro avg       0.71      0.73      0.71      1000\n",
      "weighted avg       0.75      0.72      0.72      1000\n",
      "\n",
      "\n",
      "\n",
      "\n",
      "Epoch 1/50\n"
     ]
    },
    {
     "name": "stderr",
     "output_type": "stream",
     "text": [
      "2022-10-30 20:32:33.911648: I tensorflow/core/grappler/optimizers/custom_graph_optimizer_registry.cc:114] Plugin optimizer for device_type GPU is enabled.\n",
      "2022-10-30 20:32:34.008144: I tensorflow/core/grappler/optimizers/custom_graph_optimizer_registry.cc:114] Plugin optimizer for device_type GPU is enabled.\n"
     ]
    },
    {
     "name": "stdout",
     "output_type": "stream",
     "text": [
      "  3/383 [..............................] - ETA: 11s - loss: 0.9325 - get_f1: 0.3402 "
     ]
    },
    {
     "name": "stderr",
     "output_type": "stream",
     "text": [
      "2022-10-30 20:32:34.145940: I tensorflow/core/grappler/optimizers/custom_graph_optimizer_registry.cc:114] Plugin optimizer for device_type GPU is enabled.\n"
     ]
    },
    {
     "name": "stdout",
     "output_type": "stream",
     "text": [
      "383/383 [==============================] - ETA: 0s - loss: 0.8869 - get_f1: 0.4256"
     ]
    },
    {
     "name": "stderr",
     "output_type": "stream",
     "text": [
      "2022-10-30 20:32:43.719330: I tensorflow/core/grappler/optimizers/custom_graph_optimizer_registry.cc:114] Plugin optimizer for device_type GPU is enabled.\n",
      "2022-10-30 20:32:43.759259: I tensorflow/core/grappler/optimizers/custom_graph_optimizer_registry.cc:114] Plugin optimizer for device_type GPU is enabled.\n"
     ]
    },
    {
     "name": "stdout",
     "output_type": "stream",
     "text": [
      "383/383 [==============================] - 11s 26ms/step - loss: 0.8869 - get_f1: 0.4256 - val_loss: 0.5482 - val_get_f1: 0.6105 - lr: 1.0000e-04\n",
      "Epoch 2/50\n",
      "383/383 [==============================] - 10s 25ms/step - loss: 0.7797 - get_f1: 0.5803 - val_loss: 0.5533 - val_get_f1: 0.6421 - lr: 1.0000e-04\n",
      "Epoch 3/50\n",
      "383/383 [==============================] - 10s 25ms/step - loss: 0.7566 - get_f1: 0.6064 - val_loss: 0.5359 - val_get_f1: 0.6500 - lr: 1.0000e-04\n",
      "Epoch 4/50\n",
      "383/383 [==============================] - 10s 25ms/step - loss: 0.7533 - get_f1: 0.6025 - val_loss: 0.6123 - val_get_f1: 0.6202 - lr: 1.0000e-04\n",
      "Epoch 5/50\n",
      "383/383 [==============================] - 10s 25ms/step - loss: 0.7474 - get_f1: 0.6121 - val_loss: 0.5647 - val_get_f1: 0.6373 - lr: 1.0000e-04\n",
      "Epoch 6/50\n",
      "383/383 [==============================] - 10s 25ms/step - loss: 0.7426 - get_f1: 0.6199 - val_loss: 0.5500 - val_get_f1: 0.6502 - lr: 1.0000e-04\n",
      " 8/32 [======>.......................] - ETA: 0s"
     ]
    },
    {
     "name": "stderr",
     "output_type": "stream",
     "text": [
      "2022-10-30 20:33:32.541247: I tensorflow/core/grappler/optimizers/custom_graph_optimizer_registry.cc:114] Plugin optimizer for device_type GPU is enabled.\n",
      "2022-10-30 20:33:32.567593: I tensorflow/core/grappler/optimizers/custom_graph_optimizer_registry.cc:114] Plugin optimizer for device_type GPU is enabled.\n"
     ]
    },
    {
     "name": "stdout",
     "output_type": "stream",
     "text": [
      "32/32 [==============================] - 1s 10ms/step\n",
      "Accuracy on own dev set: 0.739\n",
      "0.0001\n",
      "F1 score on dev set (macro): 0.724820263350171\n",
      "Accuracy on dev set (macro): 0.739\n",
      "Conf Matrix:                precision    recall  f1-score   support\n",
      "\n",
      "           0       0.83      0.75      0.79       648\n",
      "           1       0.61      0.73      0.66       352\n",
      "\n",
      "    accuracy                           0.74      1000\n",
      "   macro avg       0.72      0.74      0.72      1000\n",
      "weighted avg       0.75      0.74      0.74      1000\n",
      "\n",
      "\n",
      "\n",
      "\n",
      "Epoch 1/50\n"
     ]
    },
    {
     "name": "stderr",
     "output_type": "stream",
     "text": [
      "2022-10-30 20:33:33.895958: I tensorflow/core/grappler/optimizers/custom_graph_optimizer_registry.cc:114] Plugin optimizer for device_type GPU is enabled.\n",
      "2022-10-30 20:33:33.994685: I tensorflow/core/grappler/optimizers/custom_graph_optimizer_registry.cc:114] Plugin optimizer for device_type GPU is enabled.\n"
     ]
    },
    {
     "name": "stdout",
     "output_type": "stream",
     "text": [
      "\r",
      "  1/383 [..............................] - ETA: 6:20 - loss: 0.9316 - get_f1: 0.2105"
     ]
    },
    {
     "name": "stderr",
     "output_type": "stream",
     "text": [
      "2022-10-30 20:33:34.140514: I tensorflow/core/grappler/optimizers/custom_graph_optimizer_registry.cc:114] Plugin optimizer for device_type GPU is enabled.\n"
     ]
    },
    {
     "name": "stdout",
     "output_type": "stream",
     "text": [
      "383/383 [==============================] - ETA: 0s - loss: 0.8851 - get_f1: 0.4199"
     ]
    },
    {
     "name": "stderr",
     "output_type": "stream",
     "text": [
      "2022-10-30 20:33:43.683758: I tensorflow/core/grappler/optimizers/custom_graph_optimizer_registry.cc:114] Plugin optimizer for device_type GPU is enabled.\n",
      "2022-10-30 20:33:43.726693: I tensorflow/core/grappler/optimizers/custom_graph_optimizer_registry.cc:114] Plugin optimizer for device_type GPU is enabled.\n"
     ]
    },
    {
     "name": "stdout",
     "output_type": "stream",
     "text": [
      "383/383 [==============================] - 11s 26ms/step - loss: 0.8851 - get_f1: 0.4199 - val_loss: 0.6105 - val_get_f1: 0.6038 - lr: 5.0000e-04\n",
      "Epoch 2/50\n",
      "383/383 [==============================] - 10s 25ms/step - loss: 0.7846 - get_f1: 0.5882 - val_loss: 0.5426 - val_get_f1: 0.6654 - lr: 5.0000e-04\n",
      "Epoch 3/50\n",
      "383/383 [==============================] - 10s 25ms/step - loss: 0.7554 - get_f1: 0.6127 - val_loss: 0.5464 - val_get_f1: 0.6600 - lr: 5.0000e-04\n",
      "Epoch 4/50\n",
      "383/383 [==============================] - 10s 26ms/step - loss: 0.7377 - get_f1: 0.6155 - val_loss: 0.5704 - val_get_f1: 0.6530 - lr: 5.0000e-04\n",
      "Epoch 5/50\n",
      "383/383 [==============================] - 10s 25ms/step - loss: 0.7172 - get_f1: 0.6341 - val_loss: 0.5504 - val_get_f1: 0.6516 - lr: 5.0000e-04\n",
      " 7/32 [=====>........................] - ETA: 0s"
     ]
    },
    {
     "name": "stderr",
     "output_type": "stream",
     "text": [
      "2022-10-30 20:34:23.601672: I tensorflow/core/grappler/optimizers/custom_graph_optimizer_registry.cc:114] Plugin optimizer for device_type GPU is enabled.\n",
      "2022-10-30 20:34:23.629665: I tensorflow/core/grappler/optimizers/custom_graph_optimizer_registry.cc:114] Plugin optimizer for device_type GPU is enabled.\n"
     ]
    },
    {
     "name": "stdout",
     "output_type": "stream",
     "text": [
      "32/32 [==============================] - 1s 10ms/step\n",
      "Accuracy on own dev set: 0.737\n",
      "0.0005\n",
      "F1 score on dev set (macro): 0.7234952305555642\n",
      "Accuracy on dev set (macro): 0.737\n",
      "Conf Matrix:                precision    recall  f1-score   support\n",
      "\n",
      "           0       0.84      0.74      0.78       648\n",
      "           1       0.60      0.73      0.66       352\n",
      "\n",
      "    accuracy                           0.74      1000\n",
      "   macro avg       0.72      0.74      0.72      1000\n",
      "weighted avg       0.75      0.74      0.74      1000\n",
      "\n",
      "\n",
      "\n",
      "\n",
      "Epoch 1/50\n"
     ]
    },
    {
     "name": "stderr",
     "output_type": "stream",
     "text": [
      "2022-10-30 20:34:24.992973: I tensorflow/core/grappler/optimizers/custom_graph_optimizer_registry.cc:114] Plugin optimizer for device_type GPU is enabled.\n",
      "2022-10-30 20:34:25.093609: I tensorflow/core/grappler/optimizers/custom_graph_optimizer_registry.cc:114] Plugin optimizer for device_type GPU is enabled.\n"
     ]
    },
    {
     "name": "stdout",
     "output_type": "stream",
     "text": [
      "\r",
      "  1/383 [..............................] - ETA: 7:35 - loss: 0.9330 - get_f1: 0.1176"
     ]
    },
    {
     "name": "stderr",
     "output_type": "stream",
     "text": [
      "2022-10-30 20:34:25.247200: I tensorflow/core/grappler/optimizers/custom_graph_optimizer_registry.cc:114] Plugin optimizer for device_type GPU is enabled.\n"
     ]
    },
    {
     "name": "stdout",
     "output_type": "stream",
     "text": [
      "383/383 [==============================] - ETA: 0s - loss: 0.9215 - get_f1: 0.3727"
     ]
    },
    {
     "name": "stderr",
     "output_type": "stream",
     "text": [
      "2022-10-30 20:34:34.996225: I tensorflow/core/grappler/optimizers/custom_graph_optimizer_registry.cc:114] Plugin optimizer for device_type GPU is enabled.\n",
      "2022-10-30 20:34:35.038595: I tensorflow/core/grappler/optimizers/custom_graph_optimizer_registry.cc:114] Plugin optimizer for device_type GPU is enabled.\n"
     ]
    },
    {
     "name": "stdout",
     "output_type": "stream",
     "text": [
      "383/383 [==============================] - 11s 27ms/step - loss: 0.9215 - get_f1: 0.3727 - val_loss: 0.6961 - val_get_f1: 0.3718 - lr: 1.0000e-05\n",
      "Epoch 2/50\n",
      "383/383 [==============================] - 10s 25ms/step - loss: 0.9200 - get_f1: 0.3911 - val_loss: 0.6980 - val_get_f1: 0.3840 - lr: 1.0000e-05\n",
      "Epoch 3/50\n",
      "383/383 [==============================] - 10s 25ms/step - loss: 0.9183 - get_f1: 0.4033 - val_loss: 0.6957 - val_get_f1: 0.3913 - lr: 1.0000e-05\n",
      "Epoch 4/50\n",
      "383/383 [==============================] - 10s 25ms/step - loss: 0.8772 - get_f1: 0.4748 - val_loss: 0.7191 - val_get_f1: 0.5772 - lr: 1.0000e-05\n",
      "Epoch 5/50\n",
      "383/383 [==============================] - 10s 26ms/step - loss: 0.8086 - get_f1: 0.5586 - val_loss: 0.5945 - val_get_f1: 0.5979 - lr: 1.0000e-05\n",
      "Epoch 6/50\n",
      "383/383 [==============================] - 10s 26ms/step - loss: 0.7909 - get_f1: 0.5743 - val_loss: 0.5763 - val_get_f1: 0.6132 - lr: 1.0000e-05\n",
      "Epoch 7/50\n",
      "383/383 [==============================] - 10s 25ms/step - loss: 0.7828 - get_f1: 0.5784 - val_loss: 0.5850 - val_get_f1: 0.6131 - lr: 1.0000e-05\n",
      "Epoch 8/50\n",
      "383/383 [==============================] - 10s 25ms/step - loss: 0.7762 - get_f1: 0.5927 - val_loss: 0.5721 - val_get_f1: 0.6116 - lr: 9.0484e-06\n",
      "Epoch 9/50\n",
      "383/383 [==============================] - 10s 26ms/step - loss: 0.7730 - get_f1: 0.5856 - val_loss: 0.5802 - val_get_f1: 0.6277 - lr: 8.1873e-06\n",
      "Epoch 10/50\n",
      "383/383 [==============================] - 10s 25ms/step - loss: 0.7700 - get_f1: 0.5890 - val_loss: 0.5551 - val_get_f1: 0.6198 - lr: 7.4082e-06\n",
      "Epoch 11/50\n",
      "383/383 [==============================] - 10s 25ms/step - loss: 0.7653 - get_f1: 0.6001 - val_loss: 0.5593 - val_get_f1: 0.6352 - lr: 6.7032e-06\n",
      "Epoch 12/50\n",
      "383/383 [==============================] - 10s 25ms/step - loss: 0.7606 - get_f1: 0.6042 - val_loss: 0.5574 - val_get_f1: 0.6377 - lr: 6.0653e-06\n",
      "Epoch 13/50\n",
      "383/383 [==============================] - 10s 25ms/step - loss: 0.7634 - get_f1: 0.5927 - val_loss: 0.6049 - val_get_f1: 0.6168 - lr: 5.4881e-06\n",
      " 6/32 [====>.........................] - ETA: 0s"
     ]
    },
    {
     "name": "stderr",
     "output_type": "stream",
     "text": [
      "2022-10-30 20:36:32.517419: I tensorflow/core/grappler/optimizers/custom_graph_optimizer_registry.cc:114] Plugin optimizer for device_type GPU is enabled.\n",
      "2022-10-30 20:36:32.545217: I tensorflow/core/grappler/optimizers/custom_graph_optimizer_registry.cc:114] Plugin optimizer for device_type GPU is enabled.\n"
     ]
    },
    {
     "name": "stdout",
     "output_type": "stream",
     "text": [
      "32/32 [==============================] - 1s 11ms/step\n",
      "Accuracy on own dev set: 0.675\n",
      "1e-05\n",
      "F1 score on dev set (macro): 0.6695001520299301\n",
      "Accuracy on dev set (macro): 0.675\n",
      "Conf Matrix:                precision    recall  f1-score   support\n",
      "\n",
      "           0       0.84      0.62      0.71       648\n",
      "           1       0.53      0.78      0.63       352\n",
      "\n",
      "    accuracy                           0.68      1000\n",
      "   macro avg       0.68      0.70      0.67      1000\n",
      "weighted avg       0.73      0.68      0.68      1000\n",
      "\n",
      "\n",
      "\n",
      "\n",
      "Epoch 1/50\n"
     ]
    },
    {
     "name": "stderr",
     "output_type": "stream",
     "text": [
      "2022-10-30 20:36:33.871431: I tensorflow/core/grappler/optimizers/custom_graph_optimizer_registry.cc:114] Plugin optimizer for device_type GPU is enabled.\n",
      "2022-10-30 20:36:33.975734: I tensorflow/core/grappler/optimizers/custom_graph_optimizer_registry.cc:114] Plugin optimizer for device_type GPU is enabled.\n"
     ]
    },
    {
     "name": "stdout",
     "output_type": "stream",
     "text": [
      "\r",
      "  1/383 [..............................] - ETA: 7:17 - loss: 0.9324 - get_f1: 0.4444"
     ]
    },
    {
     "name": "stderr",
     "output_type": "stream",
     "text": [
      "2022-10-30 20:36:34.137016: I tensorflow/core/grappler/optimizers/custom_graph_optimizer_registry.cc:114] Plugin optimizer for device_type GPU is enabled.\n"
     ]
    },
    {
     "name": "stdout",
     "output_type": "stream",
     "text": [
      "383/383 [==============================] - ETA: 0s - loss: 0.9194 - get_f1: 0.3712"
     ]
    },
    {
     "name": "stderr",
     "output_type": "stream",
     "text": [
      "2022-10-30 20:36:44.240222: I tensorflow/core/grappler/optimizers/custom_graph_optimizer_registry.cc:114] Plugin optimizer for device_type GPU is enabled.\n",
      "2022-10-30 20:36:44.283283: I tensorflow/core/grappler/optimizers/custom_graph_optimizer_registry.cc:114] Plugin optimizer for device_type GPU is enabled.\n"
     ]
    },
    {
     "name": "stdout",
     "output_type": "stream",
     "text": [
      "383/383 [==============================] - 12s 28ms/step - loss: 0.9194 - get_f1: 0.3712 - val_loss: 0.6852 - val_get_f1: 0.4154 - lr: 5.0000e-05\n",
      "Epoch 2/50\n",
      "383/383 [==============================] - 10s 26ms/step - loss: 0.8125 - get_f1: 0.5553 - val_loss: 0.5635 - val_get_f1: 0.6227 - lr: 5.0000e-05\n",
      "Epoch 3/50\n",
      "383/383 [==============================] - 10s 26ms/step - loss: 0.7666 - get_f1: 0.5966 - val_loss: 0.5366 - val_get_f1: 0.6295 - lr: 5.0000e-05\n",
      "Epoch 4/50\n",
      "383/383 [==============================] - 10s 26ms/step - loss: 0.7591 - get_f1: 0.6002 - val_loss: 0.6269 - val_get_f1: 0.6172 - lr: 5.0000e-05\n",
      "Epoch 5/50\n",
      "383/383 [==============================] - 10s 26ms/step - loss: 0.7516 - get_f1: 0.6067 - val_loss: 0.5640 - val_get_f1: 0.6310 - lr: 5.0000e-05\n",
      "Epoch 6/50\n",
      "383/383 [==============================] - 10s 26ms/step - loss: 0.7479 - get_f1: 0.6105 - val_loss: 0.5530 - val_get_f1: 0.6462 - lr: 5.0000e-05\n",
      " 6/32 [====>.........................] - ETA: 0s"
     ]
    },
    {
     "name": "stderr",
     "output_type": "stream",
     "text": [
      "2022-10-30 20:37:34.853697: I tensorflow/core/grappler/optimizers/custom_graph_optimizer_registry.cc:114] Plugin optimizer for device_type GPU is enabled.\n",
      "2022-10-30 20:37:34.881614: I tensorflow/core/grappler/optimizers/custom_graph_optimizer_registry.cc:114] Plugin optimizer for device_type GPU is enabled.\n"
     ]
    },
    {
     "name": "stdout",
     "output_type": "stream",
     "text": [
      "32/32 [==============================] - 1s 9ms/step\n",
      "Accuracy on own dev set: 0.738\n",
      "5e-05\n",
      "F1 score on dev set (macro): 0.7233660648294795\n",
      "Accuracy on dev set (macro): 0.738\n",
      "Conf Matrix:                precision    recall  f1-score   support\n",
      "\n",
      "           0       0.83      0.75      0.79       648\n",
      "           1       0.61      0.72      0.66       352\n",
      "\n",
      "    accuracy                           0.74      1000\n",
      "   macro avg       0.72      0.73      0.72      1000\n",
      "weighted avg       0.75      0.74      0.74      1000\n",
      "\n",
      "\n",
      "\n",
      "\n"
     ]
    }
   ],
   "source": [
    "lrs=[0.01,0.05,0.001,0.005,0.0001,0.0005,0.00001,0.00005]\n",
    "emb_file=\"embeddings/fasttext.pkl\"\n",
    "\n",
    "embeddings = read_word_emb(emb_file)\n",
    "emb_matrix = get_emb_matrix(voc, embeddings)\n",
    "\n",
    "for l_r in lrs:\n",
    "    # Create model\n",
    "    model = create_model(Y_train, emb_matrix,lr=l_r)\n",
    "    # Train the model\n",
    "    model = train_model(model, X_train_vect, Y_train_bin, X_dev_vect, Y_dev_bin, 32, 50)\n",
    "    y_preds=test_set_predict(model, X_dev_vect, Y_dev_bin, \"dev\")\n",
    "    print(l_r)\n",
    "    print(\"F1 score on dev set (macro):\",f1_score(Y_dev_bin.flatten(),y_preds,average='macro'))\n",
    "    print(\"Accuracy on dev set (macro):\",accuracy_score(Y_dev_bin.flatten(),y_preds))\n",
    "    print(\"Conf Matrix: \", classification_report(Y_dev_bin.flatten(), y_preds))\n",
    "    print(\"\\n\\n\")"
   ]
  },
  {
   "cell_type": "markdown",
   "id": "45ee1c54",
   "metadata": {},
   "source": [
    "## Adam vs SGD Optimizer"
   ]
  },
  {
   "cell_type": "code",
   "execution_count": 37,
   "id": "4a755e4b",
   "metadata": {},
   "outputs": [
    {
     "name": "stdout",
     "output_type": "stream",
     "text": [
      "Epoch 1/50\n"
     ]
    },
    {
     "name": "stderr",
     "output_type": "stream",
     "text": [
      "2022-10-30 20:37:56.404725: I tensorflow/core/grappler/optimizers/custom_graph_optimizer_registry.cc:114] Plugin optimizer for device_type GPU is enabled.\n",
      "2022-10-30 20:37:56.498215: I tensorflow/core/grappler/optimizers/custom_graph_optimizer_registry.cc:114] Plugin optimizer for device_type GPU is enabled.\n"
     ]
    },
    {
     "name": "stdout",
     "output_type": "stream",
     "text": [
      "\r",
      "  1/383 [..............................] - ETA: 6:19 - loss: 0.9314 - get_f1: 0.1176"
     ]
    },
    {
     "name": "stderr",
     "output_type": "stream",
     "text": [
      "2022-10-30 20:37:56.662290: I tensorflow/core/grappler/optimizers/custom_graph_optimizer_registry.cc:114] Plugin optimizer for device_type GPU is enabled.\n"
     ]
    },
    {
     "name": "stdout",
     "output_type": "stream",
     "text": [
      "383/383 [==============================] - ETA: 0s - loss: 0.9226 - get_f1: 0.1222"
     ]
    },
    {
     "name": "stderr",
     "output_type": "stream",
     "text": [
      "2022-10-30 20:38:06.366874: I tensorflow/core/grappler/optimizers/custom_graph_optimizer_registry.cc:114] Plugin optimizer for device_type GPU is enabled.\n",
      "2022-10-30 20:38:06.409477: I tensorflow/core/grappler/optimizers/custom_graph_optimizer_registry.cc:114] Plugin optimizer for device_type GPU is enabled.\n"
     ]
    },
    {
     "name": "stdout",
     "output_type": "stream",
     "text": [
      "383/383 [==============================] - 11s 27ms/step - loss: 0.9226 - get_f1: 0.1222 - val_loss: 0.6927 - val_get_f1: 0.0420 - lr: 0.0010\n",
      "Epoch 2/50\n",
      "383/383 [==============================] - 9s 25ms/step - loss: 0.9225 - get_f1: 0.0818 - val_loss: 0.6924 - val_get_f1: 0.0596 - lr: 0.0010\n",
      "Epoch 3/50\n",
      "383/383 [==============================] - 9s 25ms/step - loss: 0.9224 - get_f1: 0.0855 - val_loss: 0.6922 - val_get_f1: 0.0596 - lr: 0.0010\n",
      "Epoch 4/50\n",
      "383/383 [==============================] - 10s 25ms/step - loss: 0.9223 - get_f1: 0.1329 - val_loss: 0.6918 - val_get_f1: 0.0817 - lr: 0.0010\n",
      "Epoch 5/50\n",
      "383/383 [==============================] - 10s 26ms/step - loss: 0.9223 - get_f1: 0.0934 - val_loss: 0.6918 - val_get_f1: 0.1045 - lr: 0.0010\n",
      "Epoch 6/50\n",
      "383/383 [==============================] - 10s 25ms/step - loss: 0.9222 - get_f1: 0.1252 - val_loss: 0.6917 - val_get_f1: 0.1234 - lr: 0.0010\n",
      "Epoch 7/50\n",
      "383/383 [==============================] - 9s 25ms/step - loss: 0.9222 - get_f1: 0.1222 - val_loss: 0.6917 - val_get_f1: 0.1267 - lr: 0.0010\n",
      "Epoch 8/50\n",
      "383/383 [==============================] - 9s 25ms/step - loss: 0.9221 - get_f1: 0.1402 - val_loss: 0.6917 - val_get_f1: 0.1294 - lr: 9.0484e-04\n",
      "Epoch 9/50\n",
      "383/383 [==============================] - 9s 24ms/step - loss: 0.9220 - get_f1: 0.1688 - val_loss: 0.6916 - val_get_f1: 0.1435 - lr: 8.1873e-04\n",
      "Epoch 10/50\n",
      "383/383 [==============================] - 9s 24ms/step - loss: 0.9220 - get_f1: 0.1792 - val_loss: 0.6915 - val_get_f1: 0.1449 - lr: 7.4082e-04\n",
      "Epoch 11/50\n",
      "383/383 [==============================] - 10s 25ms/step - loss: 0.9220 - get_f1: 0.1842 - val_loss: 0.6915 - val_get_f1: 0.1479 - lr: 6.7032e-04\n",
      "Epoch 12/50\n",
      "383/383 [==============================] - 10s 25ms/step - loss: 0.9219 - get_f1: 0.1764 - val_loss: 0.6915 - val_get_f1: 0.1586 - lr: 6.0653e-04\n",
      "Epoch 13/50\n",
      "383/383 [==============================] - 9s 24ms/step - loss: 0.9219 - get_f1: 0.1800 - val_loss: 0.6916 - val_get_f1: 0.1568 - lr: 5.4881e-04\n",
      "Epoch 14/50\n",
      "383/383 [==============================] - 9s 24ms/step - loss: 0.9219 - get_f1: 0.1893 - val_loss: 0.6916 - val_get_f1: 0.1650 - lr: 4.9659e-04\n",
      "Epoch 15/50\n",
      "383/383 [==============================] - 9s 24ms/step - loss: 0.9218 - get_f1: 0.1923 - val_loss: 0.6917 - val_get_f1: 0.1682 - lr: 4.4933e-04\n",
      "Epoch 16/50\n",
      "383/383 [==============================] - 9s 24ms/step - loss: 0.9218 - get_f1: 0.1980 - val_loss: 0.6916 - val_get_f1: 0.1759 - lr: 4.0657e-04\n",
      " 6/32 [====>.........................] - ETA: 0s"
     ]
    },
    {
     "name": "stderr",
     "output_type": "stream",
     "text": [
      "2022-10-30 20:40:29.067591: I tensorflow/core/grappler/optimizers/custom_graph_optimizer_registry.cc:114] Plugin optimizer for device_type GPU is enabled.\n",
      "2022-10-30 20:40:29.095541: I tensorflow/core/grappler/optimizers/custom_graph_optimizer_registry.cc:114] Plugin optimizer for device_type GPU is enabled.\n"
     ]
    },
    {
     "name": "stdout",
     "output_type": "stream",
     "text": [
      "32/32 [==============================] - 1s 10ms/step\n",
      "Accuracy on own dev set: 0.607\n",
      "SGD\n",
      "F1 score on dev set (macro): 0.46514239052771256\n",
      "Accuracy on dev set (macro): 0.607\n",
      "Conf Matrix:                precision    recall  f1-score   support\n",
      "\n",
      "           0       0.65      0.87      0.74       648\n",
      "           1       0.35      0.13      0.19       352\n",
      "\n",
      "    accuracy                           0.61      1000\n",
      "   macro avg       0.50      0.50      0.47      1000\n",
      "weighted avg       0.54      0.61      0.55      1000\n",
      "\n",
      "\n",
      "\n",
      "\n"
     ]
    }
   ],
   "source": [
    "def create_model(Y_train, emb_matrix, lr):\n",
    "    '''Create the Keras model to use'''\n",
    "    \n",
    "    loss_function = 'binary_crossentropy'\n",
    "    optim = SGD(learning_rate=lr)\n",
    "    \n",
    "    # Take embedding dim and size from emb_matrix\n",
    "    embedding_dim = len(emb_matrix[0])\n",
    "    num_tokens = len(emb_matrix)\n",
    "    \n",
    "    # Now build the model\n",
    "    model = Sequential()\n",
    "    model.add(Embedding(num_tokens, embedding_dim, embeddings_initializer=Constant(emb_matrix),trainable=False))\n",
    "    model.add(LSTM(embedding_dim, dropout=0.2))\n",
    "    model.add(Dense(units=1, activation=\"sigmoid\"))\n",
    "    # Compile model using our settings, check for accuracy\n",
    "    model.compile(loss=loss_function, optimizer=optim, metrics=[get_f1])\n",
    "    return model\n",
    "\n",
    "def train_model(model, X_train, Y_train, X_dev, Y_dev, batch_size, epochs):\n",
    "    '''Train the model here'''\n",
    "    verbose = 1\n",
    "    batch_size = batch_size\n",
    "    epochs = epochs\n",
    "    # Early stopping patience changed to 5\n",
    "    callback1 = tf.keras.callbacks.EarlyStopping(monitor='val_loss', patience=5)\n",
    "    #Learning Rate Scheduler\n",
    "    callback2 = tf.keras.callbacks.LearningRateScheduler(scheduler)\n",
    "    # Class weights assigned for imbalance \n",
    "    class_weight = {0: 1.,\n",
    "                1: 2.}\n",
    "    model.fit(X_train, Y_train, verbose=verbose, epochs=epochs, callbacks=[callback1,callback2], batch_size=batch_size, validation_data=(X_dev, Y_dev),\n",
    "             class_weight=class_weight)\n",
    "    return model\n",
    "\n",
    "emb_file=\"embeddings/fasttext.pkl\"\n",
    "\n",
    "embeddings = read_word_emb(emb_file)\n",
    "emb_matrix = get_emb_matrix(voc, embeddings)\n",
    "model = create_model(Y_train, emb_matrix,lr=0.001)\n",
    "# Train the model\n",
    "model = train_model(model, X_train_vect, Y_train_bin, X_dev_vect, Y_dev_bin, 32, 50)\n",
    "y_preds=test_set_predict(model, X_dev_vect, Y_dev_bin, \"dev\")\n",
    "print(\"SGD\")\n",
    "print(\"F1 score on dev set (macro):\",f1_score(Y_dev_bin.flatten(),y_preds,average='macro'))\n",
    "print(\"Accuracy on dev set (macro):\",accuracy_score(Y_dev_bin.flatten(),y_preds))\n",
    "print(\"Conf Matrix: \", classification_report(Y_dev_bin.flatten(), y_preds))\n",
    "print(\"\\n\\n\")"
   ]
  },
  {
   "cell_type": "markdown",
   "id": "381b6259",
   "metadata": {},
   "source": [
    "## Test Set Scores"
   ]
  },
  {
   "cell_type": "code",
   "execution_count": 15,
   "id": "ecafd05c",
   "metadata": {},
   "outputs": [
    {
     "name": "stdout",
     "output_type": "stream",
     "text": [
      "Epoch 1/50\n"
     ]
    },
    {
     "name": "stderr",
     "output_type": "stream",
     "text": [
      "2022-11-03 13:45:44.636305: I tensorflow/core/grappler/optimizers/custom_graph_optimizer_registry.cc:114] Plugin optimizer for device_type GPU is enabled.\n",
      "2022-11-03 13:45:44.789702: I tensorflow/core/grappler/optimizers/custom_graph_optimizer_registry.cc:114] Plugin optimizer for device_type GPU is enabled.\n"
     ]
    },
    {
     "name": "stdout",
     "output_type": "stream",
     "text": [
      "\r",
      "  1/383 [..............................] - ETA: 8:41 - loss: 0.9329 - get_f1: 0.2000"
     ]
    },
    {
     "name": "stderr",
     "output_type": "stream",
     "text": [
      "2022-11-03 13:45:45.004406: I tensorflow/core/grappler/optimizers/custom_graph_optimizer_registry.cc:114] Plugin optimizer for device_type GPU is enabled.\n"
     ]
    },
    {
     "name": "stdout",
     "output_type": "stream",
     "text": [
      "383/383 [==============================] - ETA: 0s - loss: 0.8779 - get_f1: 0.4459"
     ]
    },
    {
     "name": "stderr",
     "output_type": "stream",
     "text": [
      "2022-11-03 13:45:55.370216: I tensorflow/core/grappler/optimizers/custom_graph_optimizer_registry.cc:114] Plugin optimizer for device_type GPU is enabled.\n",
      "2022-11-03 13:45:55.421328: I tensorflow/core/grappler/optimizers/custom_graph_optimizer_registry.cc:114] Plugin optimizer for device_type GPU is enabled.\n"
     ]
    },
    {
     "name": "stdout",
     "output_type": "stream",
     "text": [
      "383/383 [==============================] - 12s 28ms/step - loss: 0.8779 - get_f1: 0.4459 - val_loss: 0.5562 - val_get_f1: 0.6077 - lr: 1.0000e-04\n",
      "Epoch 2/50\n",
      "383/383 [==============================] - 11s 28ms/step - loss: 0.7803 - get_f1: 0.5818 - val_loss: 0.5593 - val_get_f1: 0.6407 - lr: 1.0000e-04\n",
      "Epoch 3/50\n",
      "383/383 [==============================] - 10s 27ms/step - loss: 0.7579 - get_f1: 0.6060 - val_loss: 0.5410 - val_get_f1: 0.6452 - lr: 1.0000e-04\n",
      "Epoch 4/50\n",
      "383/383 [==============================] - 11s 28ms/step - loss: 0.7543 - get_f1: 0.6046 - val_loss: 0.6170 - val_get_f1: 0.6163 - lr: 1.0000e-04\n",
      "Epoch 5/50\n",
      "383/383 [==============================] - 11s 28ms/step - loss: 0.7492 - get_f1: 0.6093 - val_loss: 0.5693 - val_get_f1: 0.6421 - lr: 1.0000e-04\n",
      "Epoch 6/50\n",
      "383/383 [==============================] - 10s 27ms/step - loss: 0.7441 - get_f1: 0.6150 - val_loss: 0.5468 - val_get_f1: 0.6579 - lr: 1.0000e-04\n",
      " 4/32 [==>...........................] - ETA: 0s"
     ]
    },
    {
     "name": "stderr",
     "output_type": "stream",
     "text": [
      "2022-11-03 13:46:49.231714: I tensorflow/core/grappler/optimizers/custom_graph_optimizer_registry.cc:114] Plugin optimizer for device_type GPU is enabled.\n",
      "2022-11-03 13:46:49.260091: I tensorflow/core/grappler/optimizers/custom_graph_optimizer_registry.cc:114] Plugin optimizer for device_type GPU is enabled.\n"
     ]
    },
    {
     "name": "stdout",
     "output_type": "stream",
     "text": [
      "32/32 [==============================] - 1s 11ms/step\n",
      "Accuracy on own dev set: 0.747\n",
      "F1 score on dev set (macro): 0.7322113730782462\n",
      "Accuracy on dev set (macro): 0.747\n",
      "Conf Matrix:                precision    recall  f1-score   support\n",
      "\n",
      "           0       0.84      0.76      0.80       648\n",
      "           1       0.62      0.73      0.67       352\n",
      "\n",
      "    accuracy                           0.75      1000\n",
      "   macro avg       0.73      0.74      0.73      1000\n",
      "weighted avg       0.76      0.75      0.75      1000\n",
      "\n",
      "\n",
      "\n",
      "\n"
     ]
    }
   ],
   "source": [
    "def create_model(Y_train, emb_matrix, lr):\n",
    "    '''Create the Keras model to use'''\n",
    "    \n",
    "    loss_function = 'binary_crossentropy'\n",
    "    optim = Adam(learning_rate=lr)\n",
    "    \n",
    "    # Take embedding dim and size from emb_matrix\n",
    "    embedding_dim = len(emb_matrix[0])\n",
    "    num_tokens = len(emb_matrix)\n",
    "    \n",
    "    # Now build the model\n",
    "    model = Sequential()\n",
    "    model.add(Embedding(num_tokens, embedding_dim, embeddings_initializer=Constant(emb_matrix),trainable=False))\n",
    "    model.add(LSTM(embedding_dim, dropout=0.2))\n",
    "    model.add(Dense(units=1, activation=\"sigmoid\"))\n",
    "    # Compile model using our settings, check for accuracy\n",
    "    model.compile(loss=loss_function, optimizer=optim, metrics=[get_f1])\n",
    "    return model\n",
    "\n",
    "def train_model(model, X_train, Y_train, X_dev, Y_dev, batch_size, epochs):\n",
    "    '''Train the model here'''\n",
    "    verbose = 1\n",
    "    batch_size = batch_size\n",
    "    epochs = epochs\n",
    "    # Early stopping patience changed to 5\n",
    "    callback1 = tf.keras.callbacks.EarlyStopping(monitor='val_loss', patience=3)\n",
    "    #Learning Rate Scheduler\n",
    "    callback2 = tf.keras.callbacks.LearningRateScheduler(scheduler)\n",
    "    # Class weights assigned for imbalance \n",
    "    class_weight = {0: 1.,\n",
    "                1: 2.}\n",
    "    model.fit(X_train, Y_train, verbose=verbose, epochs=epochs, callbacks=[callback1,callback2], batch_size=batch_size, validation_data=(X_dev, Y_dev),\n",
    "             class_weight=class_weight)\n",
    "    return model\n",
    "\n",
    "emb_file=\"embeddings/fasttext.pkl\"\n",
    "\n",
    "embeddings = read_word_emb(emb_file)\n",
    "emb_matrix = get_emb_matrix(voc, embeddings)\n",
    "\n",
    "# Create model\n",
    "model = create_model(Y_train, emb_matrix,lr=0.0001)\n",
    "# Train the model\n",
    "model = train_model(model, X_train_vect, Y_train_bin, X_dev_vect, Y_dev_bin, 32, 50)\n",
    "y_preds=test_set_predict(model, X_dev_vect, Y_dev_bin, \"dev\")\n",
    "print(\"F1 score on dev set (macro):\",f1_score(Y_dev_bin.flatten(),y_preds,average='macro'))\n",
    "print(\"Accuracy on dev set (macro):\",accuracy_score(Y_dev_bin.flatten(),y_preds))\n",
    "print(\"Conf Matrix: \", classification_report(Y_dev_bin.flatten(), y_preds))\n",
    "print(\"\\n\\n\")"
   ]
  },
  {
   "cell_type": "code",
   "execution_count": 16,
   "id": "81833d7c",
   "metadata": {},
   "outputs": [],
   "source": [
    "# Read in test set and vectorize\n",
    "X_test, Y_test = read_corpus(\"datasets/test_preprocessed.txt\")\n",
    "Y_test_bin = encoder.fit_transform(Y_test)\n",
    "X_test_vect = vectorizer(np.array([[s] for s in X_test])).numpy()"
   ]
  },
  {
   "cell_type": "code",
   "execution_count": 17,
   "id": "7a2afbef",
   "metadata": {},
   "outputs": [
    {
     "name": "stdout",
     "output_type": "stream",
     "text": [
      "27/27 [==============================] - 0s 11ms/step\n",
      "Accuracy on own test set: 0.78\n",
      "F1 score on test set (macro): 0.7325901442999782\n"
     ]
    }
   ],
   "source": [
    "y_preds=test_set_predict(model, X_test_vect, Y_test_bin, \"test\")\n",
    "print(\"F1 score on test set (macro):\",f1_score(Y_test_bin.flatten(),y_preds,average='macro'))"
   ]
  },
  {
   "cell_type": "code",
   "execution_count": null,
   "id": "38d62829",
   "metadata": {},
   "outputs": [],
   "source": []
  },
  {
   "cell_type": "code",
   "execution_count": null,
   "id": "0fd84f4d",
   "metadata": {},
   "outputs": [],
   "source": []
  },
  {
   "cell_type": "code",
   "execution_count": null,
   "id": "aae40c40",
   "metadata": {},
   "outputs": [],
   "source": []
  },
  {
   "cell_type": "code",
   "execution_count": null,
   "id": "12ec4a9b",
   "metadata": {},
   "outputs": [],
   "source": []
  },
  {
   "cell_type": "code",
   "execution_count": null,
   "id": "8925fbb3",
   "metadata": {},
   "outputs": [],
   "source": []
  },
  {
   "cell_type": "code",
   "execution_count": null,
   "id": "5bb73722",
   "metadata": {},
   "outputs": [],
   "source": []
  },
  {
   "cell_type": "code",
   "execution_count": null,
   "id": "f11cb557",
   "metadata": {},
   "outputs": [],
   "source": []
  },
  {
   "cell_type": "code",
   "execution_count": null,
   "id": "c055d0e6",
   "metadata": {},
   "outputs": [],
   "source": []
  },
  {
   "cell_type": "code",
   "execution_count": null,
   "id": "670f146f",
   "metadata": {},
   "outputs": [],
   "source": []
  },
  {
   "cell_type": "code",
   "execution_count": null,
   "id": "c812690b",
   "metadata": {},
   "outputs": [],
   "source": []
  },
  {
   "cell_type": "code",
   "execution_count": null,
   "id": "17d73d3b",
   "metadata": {},
   "outputs": [],
   "source": []
  },
  {
   "cell_type": "code",
   "execution_count": null,
   "id": "bb7bded0",
   "metadata": {},
   "outputs": [],
   "source": []
  },
  {
   "cell_type": "code",
   "execution_count": null,
   "id": "636291d2",
   "metadata": {},
   "outputs": [],
   "source": []
  },
  {
   "cell_type": "code",
   "execution_count": 26,
   "id": "e8de7de4",
   "metadata": {},
   "outputs": [],
   "source": []
  },
  {
   "cell_type": "code",
   "execution_count": 377,
   "id": "c3e06728",
   "metadata": {},
   "outputs": [],
   "source": []
  },
  {
   "cell_type": "code",
   "execution_count": 351,
   "id": "0ff1c0b3",
   "metadata": {},
   "outputs": [],
   "source": []
  },
  {
   "cell_type": "code",
   "execution_count": null,
   "id": "41d3a12e",
   "metadata": {},
   "outputs": [],
   "source": []
  },
  {
   "cell_type": "code",
   "execution_count": null,
   "id": "32561efc",
   "metadata": {},
   "outputs": [],
   "source": []
  },
  {
   "cell_type": "code",
   "execution_count": null,
   "id": "18860b19",
   "metadata": {},
   "outputs": [],
   "source": []
  },
  {
   "cell_type": "code",
   "execution_count": null,
   "id": "0dcb6432",
   "metadata": {},
   "outputs": [],
   "source": []
  },
  {
   "cell_type": "code",
   "execution_count": null,
   "id": "df4abdfa",
   "metadata": {},
   "outputs": [],
   "source": []
  },
  {
   "cell_type": "code",
   "execution_count": null,
   "id": "d4a42403",
   "metadata": {},
   "outputs": [],
   "source": []
  },
  {
   "cell_type": "code",
   "execution_count": null,
   "id": "167cbdd1",
   "metadata": {},
   "outputs": [],
   "source": []
  }
 ],
 "metadata": {
  "kernelspec": {
   "display_name": "Python 3 (ipykernel)",
   "language": "python",
   "name": "python3"
  },
  "language_info": {
   "codemirror_mode": {
    "name": "ipython",
    "version": 3
   },
   "file_extension": ".py",
   "mimetype": "text/x-python",
   "name": "python",
   "nbconvert_exporter": "python",
   "pygments_lexer": "ipython3",
   "version": "3.9.12"
  }
 },
 "nbformat": 4,
 "nbformat_minor": 5
}
