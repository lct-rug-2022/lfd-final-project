{
 "cells": [
  {
   "cell_type": "markdown",
   "metadata": {
    "collapsed": false,
    "id": "KaKREBe7gV_k",
    "jupyter": {
     "outputs_hidden": false
    },
    "pycharm": {
     "name": "#%% md\n"
    }
   },
   "source": [
    "## Imports"
   ]
  },
  {
   "cell_type": "code",
   "execution_count": 1,
   "metadata": {
    "colab": {
     "base_uri": "https://localhost:8080/"
    },
    "id": "rcKcznqGhuG4",
    "outputId": "e8972da1-b2b4-4b37-9f0e-cbec63f9791e"
   },
   "outputs": [
    {
     "name": "stdout",
     "output_type": "stream",
     "text": [
      "\u001b[33m  DEPRECATION: future is being installed using the legacy 'setup.py install' method, because it does not have a 'pyproject.toml' and the 'wheel' package is not installed. pip 23.1 will enforce this behaviour change. A possible replacement is to enable the '--use-pep517' option. Discussion can be found at https://github.com/pypa/pip/issues/8559\u001b[0m\u001b[33m\n",
      "\u001b[0m"
     ]
    }
   ],
   "source": [
    "!pip install -U -q hyperopt scikit-optimize git+https://github.com/hyperopt/hyperopt-sklearn"
   ]
  },
  {
   "cell_type": "code",
   "execution_count": 6,
   "metadata": {},
   "outputs": [],
   "source": [
    "!pip install -U -q pandas sklearn numpy"
   ]
  },
  {
   "cell_type": "code",
   "execution_count": 8,
   "metadata": {
    "id": "RKoIP3v_gV_n",
    "pycharm": {
     "name": "#%%\n"
    }
   },
   "outputs": [],
   "source": [
    "import sys\n",
    "import os\n",
    "from pathlib import Path\n",
    "\n",
    "from sklearn import metrics\n",
    "import pandas as pd\n",
    "from skopt import BayesSearchCV\n",
    "from skopt.space import Real, Categorical, Integer\n",
    "from sklearn.feature_extraction.text import TfidfVectorizer\n",
    "from sklearn.pipeline import Pipeline\n",
    "from sklearn.svm import LinearSVC\n",
    "from hyperopt import tpe\n",
    "from hpsklearn import HyperoptEstimator, linear_svc, tfidf, any_sparse_classifier"
   ]
  },
  {
   "cell_type": "code",
   "execution_count": 9,
   "metadata": {
    "id": "AyWxLbJVgV_o",
    "pycharm": {
     "name": "#%%\n"
    }
   },
   "outputs": [],
   "source": [
    "import warnings\n",
    "warnings.filterwarnings(\"ignore\")\n",
    "if not sys.warnoptions:\n",
    "    warnings.simplefilter(\"ignore\")\n",
    "    os.environ[\"PYTHONWARNINGS\"] = \"ignore\"  # Also affect subprocesses"
   ]
  },
  {
   "cell_type": "markdown",
   "metadata": {
    "collapsed": false,
    "id": "aztgAmOJgV_p",
    "jupyter": {
     "outputs_hidden": false
    },
    "pycharm": {
     "name": "#%% md\n"
    }
   },
   "source": [
    "## Data loading"
   ]
  },
  {
   "cell_type": "code",
   "execution_count": 10,
   "metadata": {},
   "outputs": [],
   "source": [
    "# DATA_FOLDER = Path('.')\n",
    "DATA_FOLDER = Path('../datasets/')"
   ]
  },
  {
   "cell_type": "code",
   "execution_count": 12,
   "metadata": {
    "colab": {
     "base_uri": "https://localhost:8080/"
    },
    "id": "d4V7SRiXu8ZR",
    "outputId": "a6568e01-de9f-4874-dc80-1709a3fef6a8"
   },
   "outputs": [
    {
     "data": {
      "text/plain": [
       "(12240, 1000, 860)"
      ]
     },
     "execution_count": 12,
     "metadata": {},
     "output_type": "execute_result"
    }
   ],
   "source": [
    "df_train = pd.read_csv(DATA_FOLDER / 'train.tsv', sep='\\t', header=None, names=['text', 'label'])\n",
    "df_val = pd.read_csv(DATA_FOLDER / 'val.tsv', sep='\\t', header=None, names=['text', 'label'])\n",
    "df_test = pd.read_csv(DATA_FOLDER / 'test.tsv', sep='\\t', header=None, names=['text', 'label'])\n",
    "\n",
    "len(df_train), len(df_val), len(df_test)"
   ]
  },
  {
   "cell_type": "markdown",
   "metadata": {
    "collapsed": false,
    "id": "MdI3eEMOgV_q",
    "jupyter": {
     "outputs_hidden": false
    },
    "pycharm": {
     "name": "#%% md\n"
    }
   },
   "source": [
    "## Hyperopt"
   ]
  },
  {
   "cell_type": "code",
   "execution_count": 47,
   "metadata": {
    "colab": {
     "base_uri": "https://localhost:8080/"
    },
    "id": "-mZifzuCgV_q",
    "outputId": "beffc29f-2b0a-4533-87d5-3ef7e65dc400",
    "pycharm": {
     "name": "#%%\n"
    }
   },
   "outputs": [
    {
     "name": "stdout",
     "output_type": "stream",
     "text": [
      "100%|██████████████████████████████████████████████████████████████████| 1/1 [00:41<00:00, 41.30s/trial, best loss: 0.33129084967320266]\n",
      "100%|███████████████████████████████████████████████████████████████████| 2/2 [00:03<00:00,  3.23s/trial, best loss: 0.2691993464052288]\n",
      "100%|███████████████████████████████████████████████████████████████████| 3/3 [00:12<00:00, 12.37s/trial, best loss: 0.2691993464052288]\n",
      "100%|███████████████████████████████████████████████████████████████████| 4/4 [00:52<00:00, 52.76s/trial, best loss: 0.2691993464052288]\n",
      "100%|██████████████████████████████████████████████████████████████████| 5/5 [00:04<00:00,  4.23s/trial, best loss: 0.26511437908496727]\n",
      "100%|██████████████████████████████████████████████████████████████████| 6/6 [00:03<00:00,  3.37s/trial, best loss: 0.26511437908496727]\n",
      "100%|██████████████████████████████████████████████████████████████████| 7/7 [00:09<00:00,  9.47s/trial, best loss: 0.26511437908496727]\n",
      "100%|██████████████████████████████████████████████████████████████████| 8/8 [00:08<00:00,  8.85s/trial, best loss: 0.26511437908496727]\n",
      "100%|███████████████████████████████████████████████████████████████████| 9/9 [00:07<00:00,  7.44s/trial, best loss: 0.2577614379084967]\n",
      "100%|█████████████████████████████████████████████████████████████████| 10/10 [00:38<00:00, 38.75s/trial, best loss: 0.2577614379084967]\n",
      "100%|█████████████████████████████████████████████████████████████████| 11/11 [00:26<00:00, 26.43s/trial, best loss: 0.2577614379084967]\n",
      "100%|████████████████████████████████████████████████████████████████| 12/12 [01:58<00:00, 118.71s/trial, best loss: 0.2577614379084967]\n",
      "100%|█████████████████████████████████████████████████████████████████| 13/13 [00:04<00:00,  4.11s/trial, best loss: 0.2577614379084967]\n",
      "100%|█████████████████████████████████████████████████████████████████| 14/14 [00:07<00:00,  7.92s/trial, best loss: 0.2577614379084967]\n",
      "100%|█████████████████████████████████████████████████████████████████| 15/15 [00:02<00:00,  2.93s/trial, best loss: 0.2577614379084967]\n",
      " 94%|█████████████████████████████████████████████████████████████████████████████████████▎     | 15/16 [00:00<?, ?trial/s, best loss=?]"
     ]
    },
    {
     "name": "stderr",
     "output_type": "stream",
     "text": [
      "Process Process-21:\n",
      "Traceback (most recent call last):\n",
      "  File \"/Users/kblack/.pyenv/versions/3.10.6/lib/python3.10/multiprocessing/process.py\", line 314, in _bootstrap\n",
      "    self.run()\n",
      "  File \"/Users/kblack/.pyenv/versions/3.10.6/lib/python3.10/multiprocessing/process.py\", line 108, in run\n",
      "    self._target(*self._args, **self._kwargs)\n",
      "  File \"/Users/kblack/Projects/rug/lfd-final-project/.venv/lib/python3.10/site-packages/hpsklearn/estimator/_cost_fn.py\", line 199, in _cost_fn\n",
      "    learner.fit(XEXfit, yfit)\n",
      "  File \"/Users/kblack/Projects/rug/lfd-final-project/.venv/lib/python3.10/site-packages/sklearn/svm/_classes.py\", line 257, in fit\n",
      "    self.coef_, self.intercept_, n_iter_ = _fit_liblinear(\n",
      "  File \"/Users/kblack/Projects/rug/lfd-final-project/.venv/lib/python3.10/site-packages/sklearn/svm/_base.py\", line 1205, in _fit_liblinear\n",
      "    raw_coef_, n_iter_ = liblinear.train_wrap(\n",
      "KeyboardInterrupt\n"
     ]
    },
    {
     "name": "stdout",
     "output_type": "stream",
     "text": [
      "100%|█████████████████████████████████████████████████████████████████| 16/16 [00:26<00:00, 26.18s/trial, best loss: 0.2577614379084967]\n",
      "CPU times: user 6.81 s, sys: 993 ms, total: 7.81 s\n",
      "Wall time: 6min 13s\n"
     ]
    },
    {
     "data": {
      "text/plain": [
       "{'learner': LinearSVC(C=1.281113557643012, intercept_scaling=1.4929904983561797,\n",
       "           max_iter=1129, random_state=2, tol=0.0020463026535875875),\n",
       " 'preprocs': (TfidfVectorizer(ngram_range=(1, 3), norm=None, smooth_idf=False, use_idf=False),),\n",
       " 'ex_preprocs': ()}"
      ]
     },
     "execution_count": 47,
     "metadata": {},
     "output_type": "execute_result"
    }
   ],
   "source": [
    "%%time\n",
    "\n",
    "estim = HyperoptEstimator(\n",
    "    classifier=linear_svc('model'),\n",
    "    # classifier=any_sparse_classifier('model'),\n",
    "    # preprocessing=[TfidfVectorizer(ngram_range=(1,2), sublinear_tf=True, stop_words='english')],\n",
    "    preprocessing=[tfidf('tfidf')],\n",
    "    algo=tpe.suggest,\n",
    "    trial_timeout=60*60*60,\n",
    "    n_jobs=8,\n",
    "    max_evals=64,\n",
    ")\n",
    "\n",
    "estim.fit(df_train['text'], df_train['label'], cv_shuffle=True)\n",
    "estim.best_model()"
   ]
  },
  {
   "cell_type": "code",
   "execution_count": 48,
   "metadata": {
    "colab": {
     "base_uri": "https://localhost:8080/"
    },
    "id": "oBt5c43x5jdB",
    "outputId": "6f6c83c4-6d52-4fa4-c8e6-1884d046aec9"
   },
   "outputs": [
    {
     "name": "stdout",
     "output_type": "stream",
     "text": [
      "val f1  score: 0.819672131147541\n",
      "val acc score: 0.747\n"
     ]
    }
   ],
   "source": [
    "print('val f1  score:', metrics.f1_score(df_val['label'], estim.predict(df_val['text']), average='binary', pos_label='NOT'))\n",
    "print('val acc score:', metrics.accuracy_score(df_val['label'], estim.predict(df_val['text'])))"
   ]
  },
  {
   "cell_type": "code",
   "execution_count": 54,
   "metadata": {},
   "outputs": [],
   "source": [
    "test_pipeline = Pipeline([\n",
    "    ('vec', TfidfVectorizer(ngram_range=(1, 3), norm=None, smooth_idf=False, use_idf=False)),\n",
    "    ('model', LinearSVC(C=1.2811, intercept_scaling=1.4929,\n",
    "           max_iter=1129, random_state=2, tol=0.0021)),\n",
    "]).fit(df_train['text'], df_train['label'])"
   ]
  },
  {
   "cell_type": "code",
   "execution_count": 55,
   "metadata": {},
   "outputs": [
    {
     "name": "stdout",
     "output_type": "stream",
     "text": [
      "test f1  score: 0.8613026819923372\n",
      "test acc score: 0.7895348837209303\n"
     ]
    }
   ],
   "source": [
    "print('test f1  score:', metrics.f1_score(df_test['label'], test_pipeline.predict(df_test['text']), average='binary', pos_label='NOT'))\n",
    "print('test acc score:', metrics.accuracy_score(df_test['label'], test_pipeline.predict(df_test['text'])))"
   ]
  },
  {
   "cell_type": "markdown",
   "metadata": {
    "collapsed": false,
    "id": "aXgxe3_rgV_r",
    "jupyter": {
     "outputs_hidden": false
    },
    "pycharm": {
     "name": "#%% md\n"
    }
   },
   "source": [
    "## Bayesian Optimization"
   ]
  },
  {
   "cell_type": "code",
   "execution_count": 56,
   "metadata": {
    "colab": {
     "base_uri": "https://localhost:8080/"
    },
    "id": "R4BffL1_gV_r",
    "outputId": "0d769bf0-9223-4771-acb6-c6b7b243bb05",
    "pycharm": {
     "name": "#%%\n"
    }
   },
   "outputs": [
    {
     "name": "stdout",
     "output_type": "stream",
     "text": [
      "Fitting 4 folds for each of 1 candidates, totalling 4 fits\n",
      "Fitting 4 folds for each of 1 candidates, totalling 4 fits\n",
      "Fitting 4 folds for each of 1 candidates, totalling 4 fits\n",
      "Fitting 4 folds for each of 1 candidates, totalling 4 fits\n",
      "Fitting 4 folds for each of 1 candidates, totalling 4 fits\n",
      "Fitting 4 folds for each of 1 candidates, totalling 4 fits\n",
      "Fitting 4 folds for each of 1 candidates, totalling 4 fits\n",
      "Fitting 4 folds for each of 1 candidates, totalling 4 fits\n",
      "Fitting 4 folds for each of 1 candidates, totalling 4 fits\n",
      "Fitting 4 folds for each of 1 candidates, totalling 4 fits\n",
      "Fitting 4 folds for each of 1 candidates, totalling 4 fits\n",
      "Fitting 4 folds for each of 1 candidates, totalling 4 fits\n",
      "Fitting 4 folds for each of 1 candidates, totalling 4 fits\n",
      "Fitting 4 folds for each of 1 candidates, totalling 4 fits\n",
      "Fitting 4 folds for each of 1 candidates, totalling 4 fits\n",
      "Fitting 4 folds for each of 1 candidates, totalling 4 fits\n",
      "cv acc score: 0.6858660130718954\n",
      "Pipeline(steps=[('vec',\n",
      "                 TfidfVectorizer(max_df=0.9236574545875886,\n",
      "                                 min_df=0.014510750330550229, norm='l1')),\n",
      "                ('model',\n",
      "                 LinearSVC(C=2.634291071523559, loss='hinge',\n",
      "                           tol=3.9313062829860266e-05))])\n",
      "CPU times: user 29.4 s, sys: 4 s, total: 33.4 s\n",
      "Wall time: 34.5 s\n"
     ]
    },
    {
     "data": {
      "text/plain": [
       "OrderedDict([('model__C', 2.634291071523559),\n",
       "             ('model__loss', 'hinge'),\n",
       "             ('model__tol', 3.9313062829860266e-05),\n",
       "             ('vec__lowercase', True),\n",
       "             ('vec__max_df', 0.9236574545875886),\n",
       "             ('vec__min_df', 0.014510750330550229),\n",
       "             ('vec__ngram_range', (1, 1)),\n",
       "             ('vec__norm', 'l1'),\n",
       "             ('vec__stop_words', None),\n",
       "             ('vec__sublinear_tf', False)])"
      ]
     },
     "execution_count": 56,
     "metadata": {},
     "output_type": "execute_result"
    }
   ],
   "source": [
    "%%time\n",
    "\n",
    "pipeline = Pipeline([\n",
    "    ('vec', TfidfVectorizer()),\n",
    "    ('model', LinearSVC()),\n",
    "])\n",
    "\n",
    "\n",
    "# can not use tuples for `vec__ngram_range`, due to https://github.com/scikit-optimize/scikit-optimize/issues/967\n",
    "class MyTuple:\n",
    "    def __init__(self, *tp):\n",
    "        self.tp = tp\n",
    "\n",
    "    def __iter__(self):\n",
    "        return iter(self.tp)\n",
    "\n",
    "    def __hash__(self):\n",
    "        return hash(self.tp)\n",
    "\n",
    "    def __repr__(self):\n",
    "        return self.tp.__repr__()\n",
    "\n",
    "    def __str__(self):\n",
    "        return self.tp.__str__()\n",
    "\n",
    "\n",
    "opt = BayesSearchCV(\n",
    "    pipeline,\n",
    "    {\n",
    "        'vec__lowercase': [True, False],\n",
    "        'vec__stop_words': [None, 'english'],\n",
    "        'vec__ngram_range': Categorical([MyTuple(1,1), MyTuple(1,2), MyTuple(1,3), MyTuple(2,2), MyTuple(2,3)], transform='identity'),\n",
    "        'vec__norm': ['l1', 'l2'],\n",
    "        'vec__sublinear_tf': [True, False],\n",
    "        'vec__max_df': (0.9, 1.0, 'uniform'),\n",
    "        'vec__min_df': (0.0, 0.1, 'uniform'),\n",
    "     \n",
    "        'model__C': (1e-6, 1e+6, 'log-uniform'),\n",
    "        'model__tol': (1e-6, 1e-2, 'log-uniform'),\n",
    "        'model__loss': ['hinge', 'squared_hinge'],\n",
    "    },\n",
    "    n_iter=64,\n",
    "    cv=4,\n",
    "    n_jobs=4,\n",
    "    scoring='accuracy',\n",
    "    verbose=1,\n",
    ")\n",
    "\n",
    "opt.fit(df_train['text'], df_train['label'])\n",
    "\n",
    "print('cv acc score:', opt.best_score_)\n",
    "print(str(opt.best_estimator_))\n",
    "opt.best_params_"
   ]
  },
  {
   "cell_type": "code",
   "execution_count": 57,
   "metadata": {
    "colab": {
     "base_uri": "https://localhost:8080/",
     "height": 169
    },
    "id": "__szMvkfgV_s",
    "outputId": "9fca91df-5557-4c9e-dda7-75de4e69cac3",
    "pycharm": {
     "name": "#%%\n"
    }
   },
   "outputs": [
    {
     "name": "stdout",
     "output_type": "stream",
     "text": [
      "val acc score: 0.667\n"
     ]
    }
   ],
   "source": [
    "print('val acc score:', opt.score(df_val['text'], df_val['label']))"
   ]
  },
  {
   "cell_type": "code",
   "execution_count": 58,
   "metadata": {
    "id": "_k4pVXrPbR2p"
   },
   "outputs": [
    {
     "name": "stdout",
     "output_type": "stream",
     "text": [
      "val f1  score: 0.7948243992606284\n",
      "val acc score: 0.667\n"
     ]
    }
   ],
   "source": [
    "print('val f1  score:', metrics.f1_score(df_val['label'], opt.best_estimator_.predict(df_val['text']), average='binary', pos_label='NOT'))\n",
    "print('val acc score:', metrics.accuracy_score(df_val['label'], opt.best_estimator_.predict(df_val['text'])))"
   ]
  },
  {
   "cell_type": "code",
   "execution_count": 39,
   "metadata": {},
   "outputs": [],
   "source": [
    "test_pipeline = Pipeline(steps=[('vec',\n",
    "                 TfidfVectorizer(max_df=0.9, min_df=0.02568255483634174,\n",
    "                                 norm='l1', stop_words='english',\n",
    "                                 sublinear_tf=True)),\n",
    "                ('model', LinearSVC(C=0.1951777495712477, tol=0.01))\n",
    "]).fit(df_train['text'], df_train['label'])"
   ]
  },
  {
   "cell_type": "code",
   "execution_count": 40,
   "metadata": {
    "id": "0DS2yY8FjtLo"
   },
   "outputs": [
    {
     "name": "stdout",
     "output_type": "stream",
     "text": [
      "test f1  score: 0.846945778997941\n",
      "test acc score: 0.7406976744186047\n"
     ]
    }
   ],
   "source": [
    "print('test f1  score:', metrics.f1_score(df_test['label'], opt.best_estimator_.predict(df_test['text']), average='binary', pos_label='NOT'))\n",
    "print('test acc score:', metrics.accuracy_score(df_test['label'], opt.best_estimator_.predict(df_test['text'])))"
   ]
  },
  {
   "cell_type": "code",
   "execution_count": null,
   "metadata": {},
   "outputs": [],
   "source": []
  }
 ],
 "metadata": {
  "colab": {
   "collapsed_sections": [],
   "provenance": []
  },
  "kernelspec": {
   "display_name": "Python 3 (ipykernel)",
   "language": "python",
   "name": "python3"
  },
  "language_info": {
   "codemirror_mode": {
    "name": "ipython",
    "version": 3
   },
   "file_extension": ".py",
   "mimetype": "text/x-python",
   "name": "python",
   "nbconvert_exporter": "python",
   "pygments_lexer": "ipython3",
   "version": "3.10.6"
  }
 },
 "nbformat": 4,
 "nbformat_minor": 4
}
