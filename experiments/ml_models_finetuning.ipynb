{
 "cells": [
  {
   "cell_type": "markdown",
   "metadata": {
    "collapsed": false,
    "id": "KaKREBe7gV_k",
    "jupyter": {
     "outputs_hidden": false
    },
    "pycharm": {
     "name": "#%% md\n"
    }
   },
   "source": [
    "## Imports"
   ]
  },
  {
   "cell_type": "code",
   "execution_count": 1,
   "metadata": {
    "colab": {
     "base_uri": "https://localhost:8080/"
    },
    "id": "rcKcznqGhuG4",
    "outputId": "e8972da1-b2b4-4b37-9f0e-cbec63f9791e"
   },
   "outputs": [
    {
     "name": "stdout",
     "output_type": "stream",
     "text": [
      "\u001B[33m  DEPRECATION: future is being installed using the legacy 'setup.py install' method, because it does not have a 'pyproject.toml' and the 'wheel' package is not installed. pip 23.1 will enforce this behaviour change. A possible replacement is to enable the '--use-pep517' option. Discussion can be found at https://github.com/pypa/pip/issues/8559\u001B[0m\u001B[33m\n",
      "\u001B[0m"
     ]
    }
   ],
   "source": [
    "!pip install -U -q hyperopt scikit-optimize git+https://github.com/hyperopt/hyperopt-sklearnpandas sklearn numpy"
   ]
  },
  {
   "cell_type": "code",
   "execution_count": 17,
   "metadata": {
    "id": "RKoIP3v_gV_n",
    "pycharm": {
     "name": "#%%\n"
    }
   },
   "outputs": [],
   "source": [
    "import sys\n",
    "import os\n",
    "from pathlib import Path\n",
    "\n",
    "from sklearn import metrics\n",
    "import pandas as pd\n",
    "from skopt import BayesSearchCV\n",
    "from skopt.space import Real, Categorical, Integer\n",
    "from sklearn.feature_extraction.text import TfidfVectorizer\n",
    "from sklearn.pipeline import Pipeline\n",
    "from sklearn.svm import LinearSVC\n",
    "from hyperopt import tpe\n",
    "from hpsklearn import HyperoptEstimator, linear_svc, tfidf, any_sparse_classifier, random_forest_classifier, extra_tree_classifier"
   ]
  },
  {
   "cell_type": "code",
   "execution_count": 2,
   "metadata": {
    "id": "AyWxLbJVgV_o",
    "pycharm": {
     "name": "#%%\n"
    }
   },
   "outputs": [],
   "source": [
    "import warnings\n",
    "warnings.filterwarnings(\"ignore\")\n",
    "if not sys.warnoptions:\n",
    "    warnings.simplefilter(\"ignore\")\n",
    "    os.environ[\"PYTHONWARNINGS\"] = \"ignore\"  # Also affect subprocesses"
   ]
  },
  {
   "cell_type": "markdown",
   "metadata": {
    "collapsed": false,
    "id": "aztgAmOJgV_p",
    "jupyter": {
     "outputs_hidden": false
    },
    "pycharm": {
     "name": "#%% md\n"
    }
   },
   "source": [
    "## Data loading"
   ]
  },
  {
   "cell_type": "code",
   "execution_count": 3,
   "metadata": {},
   "outputs": [],
   "source": [
    "# DATA_FOLDER = Path('.')\n",
    "DATA_FOLDER = Path('../datasets/')"
   ]
  },
  {
   "cell_type": "code",
   "execution_count": 4,
   "metadata": {
    "colab": {
     "base_uri": "https://localhost:8080/"
    },
    "id": "d4V7SRiXu8ZR",
    "outputId": "a6568e01-de9f-4874-dc80-1709a3fef6a8"
   },
   "outputs": [
    {
     "data": {
      "text/plain": [
       "(12240, 1000, 860)"
      ]
     },
     "execution_count": 4,
     "metadata": {},
     "output_type": "execute_result"
    }
   ],
   "source": [
    "df_train = pd.read_csv(DATA_FOLDER / 'train.tsv', sep='\\t', header=None, names=['text', 'label'])\n",
    "df_val = pd.read_csv(DATA_FOLDER / 'val.tsv', sep='\\t', header=None, names=['text', 'label'])\n",
    "df_test = pd.read_csv(DATA_FOLDER / 'test.tsv', sep='\\t', header=None, names=['text', 'label'])\n",
    "\n",
    "len(df_train), len(df_val), len(df_test)"
   ]
  },
  {
   "cell_type": "markdown",
   "metadata": {
    "collapsed": false,
    "id": "MdI3eEMOgV_q",
    "jupyter": {
     "outputs_hidden": false
    },
    "pycharm": {
     "name": "#%% md\n"
    }
   },
   "source": [
    "## Hyperopt"
   ]
  },
  {
   "cell_type": "code",
   "execution_count": 18,
   "metadata": {},
   "outputs": [
    {
     "name": "stdout",
     "output_type": "stream",
     "text": [
      "100%|███████████████████████████████████████████████████████████████████| 1/1 [00:03<00:00,  3.03s/trial, best loss: 0.3308823529411765]\n",
      "100%|███████████████████████████████████████████████████████████████████| 2/2 [00:03<00:00,  3.68s/trial, best loss: 0.3055555555555556]\n",
      "100%|███████████████████████████████████████████████████████████████████| 3/3 [00:08<00:00,  8.91s/trial, best loss: 0.2679738562091504]\n",
      "100%|███████████████████████████████████████████████████████████████████| 4/4 [01:16<00:00, 76.04s/trial, best loss: 0.2679738562091504]\n",
      "100%|███████████████████████████████████████████████████████████████████| 5/5 [00:07<00:00,  8.00s/trial, best loss: 0.2679738562091504]\n",
      " 83%|█████████████████████████████████████████████████████████████████████████████▌               | 5/6 [18:56<?, ?trial/s, best loss=?]\n"
     ]
    },
    {
     "name": "stderr",
     "output_type": "stream",
     "text": [
      "Process Process-22:\n",
      "Traceback (most recent call last):\n",
      "  File \"/Users/kblack/.pyenv/versions/3.10.6/lib/python3.10/multiprocessing/process.py\", line 314, in _bootstrap\n",
      "    self.run()\n",
      "  File \"/Users/kblack/.pyenv/versions/3.10.6/lib/python3.10/multiprocessing/process.py\", line 108, in run\n",
      "    self._target(*self._args, **self._kwargs)\n",
      "  File \"/Users/kblack/Projects/rug/lfd-final-project/.venv/lib/python3.10/site-packages/hpsklearn/estimator/_cost_fn.py\", line 199, in _cost_fn\n",
      "    learner.fit(XEXfit, yfit)\n",
      "  File \"/Users/kblack/Projects/rug/lfd-final-project/.venv/lib/python3.10/site-packages/sklearn/ensemble/_forest.py\", line 476, in fit\n",
      "    trees = Parallel(\n",
      "  File \"/Users/kblack/Projects/rug/lfd-final-project/.venv/lib/python3.10/site-packages/joblib/parallel.py\", line 1098, in __call__\n",
      "    self.retrieve()\n",
      "  File \"/Users/kblack/Projects/rug/lfd-final-project/.venv/lib/python3.10/site-packages/joblib/parallel.py\", line 975, in retrieve\n",
      "    self._output.extend(job.get(timeout=self.timeout))\n",
      "  File \"/Users/kblack/.pyenv/versions/3.10.6/lib/python3.10/multiprocessing/pool.py\", line 768, in get\n",
      "    self.wait(timeout)\n",
      "  File \"/Users/kblack/.pyenv/versions/3.10.6/lib/python3.10/multiprocessing/pool.py\", line 765, in wait\n",
      "    self._event.wait(timeout)\n",
      "  File \"/Users/kblack/.pyenv/versions/3.10.6/lib/python3.10/threading.py\", line 607, in wait\n",
      "    signaled = self._cond.wait(timeout)\n",
      "  File \"/Users/kblack/.pyenv/versions/3.10.6/lib/python3.10/threading.py\", line 320, in wait\n",
      "    waiter.acquire()\n",
      "KeyboardInterrupt\n",
      "\n",
      "KeyboardInterrupt\n",
      "\n"
     ]
    }
   ],
   "source": [
    "%%time\n",
    "\n",
    "estim = HyperoptEstimator(\n",
    "    classifier=random_forest_classifier('model'),\n",
    "    # classifier=any_sparse_classifier('model'),\n",
    "    # preprocessing=[TfidfVectorizer(ngram_range=(1,2), sublinear_tf=True, stop_words='english')],\n",
    "    preprocessing=[tfidf('tfidf')],\n",
    "    algo=tpe.suggest,\n",
    "    trial_timeout=60*60*60,\n",
    "    n_jobs=8,\n",
    "    max_evals=16,\n",
    ")\n",
    "\n",
    "estim.fit(df_train['text'], df_train['label'], cv_shuffle=True)\n",
    "estim.best_model()"
   ]
  },
  {
   "cell_type": "code",
   "execution_count": 20,
   "metadata": {},
   "outputs": [
    {
     "ename": "AttributeError",
     "evalue": "'list' object has no attribute 'take'",
     "output_type": "error",
     "traceback": [
      "\u001B[0;31m---------------------------------------------------------------------------\u001B[0m",
      "\u001B[0;31mAttributeError\u001B[0m                            Traceback (most recent call last)",
      "Cell \u001B[0;32mIn [20], line 1\u001B[0m\n\u001B[0;32m----> 1\u001B[0m \u001B[38;5;28mprint\u001B[39m(\u001B[38;5;124m'\u001B[39m\u001B[38;5;124mval f1  score:\u001B[39m\u001B[38;5;124m'\u001B[39m, metrics\u001B[38;5;241m.\u001B[39mf1_score(df_val[\u001B[38;5;124m'\u001B[39m\u001B[38;5;124mlabel\u001B[39m\u001B[38;5;124m'\u001B[39m], \u001B[43mestim\u001B[49m\u001B[38;5;241;43m.\u001B[39;49m\u001B[43mpredict\u001B[49m\u001B[43m(\u001B[49m\u001B[43mdf_val\u001B[49m\u001B[43m[\u001B[49m\u001B[38;5;124;43m'\u001B[39;49m\u001B[38;5;124;43mtext\u001B[39;49m\u001B[38;5;124;43m'\u001B[39;49m\u001B[43m]\u001B[49m\u001B[43m)\u001B[49m, average\u001B[38;5;241m=\u001B[39m\u001B[38;5;124m'\u001B[39m\u001B[38;5;124mbinary\u001B[39m\u001B[38;5;124m'\u001B[39m, pos_label\u001B[38;5;241m=\u001B[39m\u001B[38;5;124m'\u001B[39m\u001B[38;5;124mNOT\u001B[39m\u001B[38;5;124m'\u001B[39m))\n\u001B[1;32m      2\u001B[0m \u001B[38;5;28mprint\u001B[39m(\u001B[38;5;124m'\u001B[39m\u001B[38;5;124mval acc score:\u001B[39m\u001B[38;5;124m'\u001B[39m, metrics\u001B[38;5;241m.\u001B[39maccuracy_score(df_val[\u001B[38;5;124m'\u001B[39m\u001B[38;5;124mlabel\u001B[39m\u001B[38;5;124m'\u001B[39m], estim\u001B[38;5;241m.\u001B[39mpredict(df_val[\u001B[38;5;124m'\u001B[39m\u001B[38;5;124mtext\u001B[39m\u001B[38;5;124m'\u001B[39m])))\n",
      "File \u001B[0;32m~/Projects/rug/lfd-final-project/.venv/lib/python3.10/site-packages/hpsklearn/estimator/estimator.py:509\u001B[0m, in \u001B[0;36mhyperopt_estimator.predict\u001B[0;34m(self, X, EX_list, fit_preproc)\u001B[0m\n\u001B[1;32m    503\u001B[0m     X \u001B[38;5;241m=\u001B[39m np\u001B[38;5;241m.\u001B[39marray(X)\n\u001B[1;32m    504\u001B[0m XEX \u001B[38;5;241m=\u001B[39m _transform_combine_XEX(\n\u001B[1;32m    505\u001B[0m     X, info\u001B[38;5;241m=\u001B[39m\u001B[38;5;28mself\u001B[39m\u001B[38;5;241m.\u001B[39minfo, en_pps\u001B[38;5;241m=\u001B[39m\u001B[38;5;28mself\u001B[39m\u001B[38;5;241m.\u001B[39m_best_preprocs,\n\u001B[1;32m    506\u001B[0m     EXfit_list\u001B[38;5;241m=\u001B[39mEX_list, ex_pps_list\u001B[38;5;241m=\u001B[39m\u001B[38;5;28mself\u001B[39m\u001B[38;5;241m.\u001B[39m_best_ex_preprocs,\n\u001B[1;32m    507\u001B[0m     fit_preproc\u001B[38;5;241m=\u001B[39mfit_preproc,\n\u001B[1;32m    508\u001B[0m )\n\u001B[0;32m--> 509\u001B[0m \u001B[38;5;28;01mreturn\u001B[39;00m \u001B[38;5;28;43mself\u001B[39;49m\u001B[38;5;241;43m.\u001B[39;49m\u001B[43m_best_learner\u001B[49m\u001B[38;5;241;43m.\u001B[39;49m\u001B[43mpredict\u001B[49m\u001B[43m(\u001B[49m\u001B[43mXEX\u001B[49m\u001B[43m)\u001B[49m\n",
      "File \u001B[0;32m~/Projects/rug/lfd-final-project/.venv/lib/python3.10/site-packages/sklearn/ensemble/_forest.py:835\u001B[0m, in \u001B[0;36mForestClassifier.predict\u001B[0;34m(self, X)\u001B[0m\n\u001B[1;32m    832\u001B[0m proba \u001B[38;5;241m=\u001B[39m \u001B[38;5;28mself\u001B[39m\u001B[38;5;241m.\u001B[39mpredict_proba(X)\n\u001B[1;32m    834\u001B[0m \u001B[38;5;28;01mif\u001B[39;00m \u001B[38;5;28mself\u001B[39m\u001B[38;5;241m.\u001B[39mn_outputs_ \u001B[38;5;241m==\u001B[39m \u001B[38;5;241m1\u001B[39m:\n\u001B[0;32m--> 835\u001B[0m     \u001B[38;5;28;01mreturn\u001B[39;00m \u001B[38;5;28;43mself\u001B[39;49m\u001B[38;5;241;43m.\u001B[39;49m\u001B[43mclasses_\u001B[49m\u001B[38;5;241;43m.\u001B[39;49m\u001B[43mtake\u001B[49m(np\u001B[38;5;241m.\u001B[39margmax(proba, axis\u001B[38;5;241m=\u001B[39m\u001B[38;5;241m1\u001B[39m), axis\u001B[38;5;241m=\u001B[39m\u001B[38;5;241m0\u001B[39m)\n\u001B[1;32m    837\u001B[0m \u001B[38;5;28;01melse\u001B[39;00m:\n\u001B[1;32m    838\u001B[0m     n_samples \u001B[38;5;241m=\u001B[39m proba[\u001B[38;5;241m0\u001B[39m]\u001B[38;5;241m.\u001B[39mshape[\u001B[38;5;241m0\u001B[39m]\n",
      "\u001B[0;31mAttributeError\u001B[0m: 'list' object has no attribute 'take'"
     ]
    }
   ],
   "source": [
    "print('val f1  score:', metrics.f1_score(df_val['label'], estim.predict(df_val['text']), average='binary', pos_label='NOT'))\n",
    "print('val acc score:', metrics.accuracy_score(df_val['label'], estim.predict(df_val['text'])))"
   ]
  },
  {
   "cell_type": "code",
   "execution_count": 47,
   "metadata": {
    "colab": {
     "base_uri": "https://localhost:8080/"
    },
    "id": "-mZifzuCgV_q",
    "outputId": "beffc29f-2b0a-4533-87d5-3ef7e65dc400",
    "pycharm": {
     "name": "#%%\n"
    }
   },
   "outputs": [
    {
     "name": "stdout",
     "output_type": "stream",
     "text": [
      "100%|██████████████████████████████████████████████████████████████████| 1/1 [00:41<00:00, 41.30s/trial, best loss: 0.33129084967320266]\n",
      "100%|███████████████████████████████████████████████████████████████████| 2/2 [00:03<00:00,  3.23s/trial, best loss: 0.2691993464052288]\n",
      "100%|███████████████████████████████████████████████████████████████████| 3/3 [00:12<00:00, 12.37s/trial, best loss: 0.2691993464052288]\n",
      "100%|███████████████████████████████████████████████████████████████████| 4/4 [00:52<00:00, 52.76s/trial, best loss: 0.2691993464052288]\n",
      "100%|██████████████████████████████████████████████████████████████████| 5/5 [00:04<00:00,  4.23s/trial, best loss: 0.26511437908496727]\n",
      "100%|██████████████████████████████████████████████████████████████████| 6/6 [00:03<00:00,  3.37s/trial, best loss: 0.26511437908496727]\n",
      "100%|██████████████████████████████████████████████████████████████████| 7/7 [00:09<00:00,  9.47s/trial, best loss: 0.26511437908496727]\n",
      "100%|██████████████████████████████████████████████████████████████████| 8/8 [00:08<00:00,  8.85s/trial, best loss: 0.26511437908496727]\n",
      "100%|███████████████████████████████████████████████████████████████████| 9/9 [00:07<00:00,  7.44s/trial, best loss: 0.2577614379084967]\n",
      "100%|█████████████████████████████████████████████████████████████████| 10/10 [00:38<00:00, 38.75s/trial, best loss: 0.2577614379084967]\n",
      "100%|█████████████████████████████████████████████████████████████████| 11/11 [00:26<00:00, 26.43s/trial, best loss: 0.2577614379084967]\n",
      "100%|████████████████████████████████████████████████████████████████| 12/12 [01:58<00:00, 118.71s/trial, best loss: 0.2577614379084967]\n",
      "100%|█████████████████████████████████████████████████████████████████| 13/13 [00:04<00:00,  4.11s/trial, best loss: 0.2577614379084967]\n",
      "100%|█████████████████████████████████████████████████████████████████| 14/14 [00:07<00:00,  7.92s/trial, best loss: 0.2577614379084967]\n",
      "100%|█████████████████████████████████████████████████████████████████| 15/15 [00:02<00:00,  2.93s/trial, best loss: 0.2577614379084967]\n",
      " 94%|█████████████████████████████████████████████████████████████████████████████████████▎     | 15/16 [00:00<?, ?trial/s, best loss=?]"
     ]
    },
    {
     "name": "stderr",
     "output_type": "stream",
     "text": [
      "Process Process-21:\n",
      "Traceback (most recent call last):\n",
      "  File \"/Users/kblack/.pyenv/versions/3.10.6/lib/python3.10/multiprocessing/process.py\", line 314, in _bootstrap\n",
      "    self.run()\n",
      "  File \"/Users/kblack/.pyenv/versions/3.10.6/lib/python3.10/multiprocessing/process.py\", line 108, in run\n",
      "    self._target(*self._args, **self._kwargs)\n",
      "  File \"/Users/kblack/Projects/rug/lfd-final-project/.venv/lib/python3.10/site-packages/hpsklearn/estimator/_cost_fn.py\", line 199, in _cost_fn\n",
      "    learner.fit(XEXfit, yfit)\n",
      "  File \"/Users/kblack/Projects/rug/lfd-final-project/.venv/lib/python3.10/site-packages/sklearn/svm/_classes.py\", line 257, in fit\n",
      "    self.coef_, self.intercept_, n_iter_ = _fit_liblinear(\n",
      "  File \"/Users/kblack/Projects/rug/lfd-final-project/.venv/lib/python3.10/site-packages/sklearn/svm/_base.py\", line 1205, in _fit_liblinear\n",
      "    raw_coef_, n_iter_ = liblinear.train_wrap(\n",
      "KeyboardInterrupt\n"
     ]
    },
    {
     "name": "stdout",
     "output_type": "stream",
     "text": [
      "100%|█████████████████████████████████████████████████████████████████| 16/16 [00:26<00:00, 26.18s/trial, best loss: 0.2577614379084967]\n",
      "CPU times: user 6.81 s, sys: 993 ms, total: 7.81 s\n",
      "Wall time: 6min 13s\n"
     ]
    },
    {
     "data": {
      "text/plain": [
       "{'learner': LinearSVC(C=1.281113557643012, intercept_scaling=1.4929904983561797,\n",
       "           max_iter=1129, random_state=2, tol=0.0020463026535875875),\n",
       " 'preprocs': (TfidfVectorizer(ngram_range=(1, 3), norm=None, smooth_idf=False, use_idf=False),),\n",
       " 'ex_preprocs': ()}"
      ]
     },
     "execution_count": 47,
     "metadata": {},
     "output_type": "execute_result"
    }
   ],
   "source": [
    "%%time\n",
    "\n",
    "estim = HyperoptEstimator(\n",
    "    classifier=linear_svc('model'),\n",
    "    preprocessing=[tfidf('tfidf')],\n",
    "    algo=tpe.suggest,\n",
    "    trial_timeout=60*60*60,\n",
    "    n_jobs=8,\n",
    "    max_evals=64,\n",
    ")\n",
    "\n",
    "estim.fit(df_train['text'], df_train['label'], cv_shuffle=True)\n",
    "estim.best_model()"
   ]
  },
  {
   "cell_type": "code",
   "execution_count": 48,
   "metadata": {
    "colab": {
     "base_uri": "https://localhost:8080/"
    },
    "id": "oBt5c43x5jdB",
    "outputId": "6f6c83c4-6d52-4fa4-c8e6-1884d046aec9"
   },
   "outputs": [
    {
     "name": "stdout",
     "output_type": "stream",
     "text": [
      "val f1  score: 0.819672131147541\n",
      "val acc score: 0.747\n"
     ]
    }
   ],
   "source": [
    "print('val f1  score:', metrics.f1_score(df_val['label'], estim.predict(df_val['text']), average='binary', pos_label='NOT'))\n",
    "print('val acc score:', metrics.accuracy_score(df_val['label'], estim.predict(df_val['text'])))"
   ]
  },
  {
   "cell_type": "code",
   "execution_count": 31,
   "metadata": {},
   "outputs": [],
   "source": [
    "test_pipeline = Pipeline([\n",
    "    ('vec', TfidfVectorizer(ngram_range=(1, 3), norm=None, smooth_idf=False, use_idf=False)),\n",
    "    ('model', LinearSVC(C=1.2811, intercept_scaling=1.4929,\n",
    "           max_iter=1129, random_state=2, tol=0.0021)),\n",
    "]).fit(df_train['text'], df_train['label'])"
   ]
  },
  {
   "cell_type": "code",
   "execution_count": 32,
   "metadata": {},
   "outputs": [
    {
     "name": "stdout",
     "output_type": "stream",
     "text": [
      "test f1-macro score: 0.7125790518395421\n",
      "test acc      score: 0.7895348837209303\n"
     ]
    }
   ],
   "source": [
    "print('test f1-macro score:', metrics.f1_score(df_test['label'], test_pipeline.predict(df_test['text']), average='macro'))\n",
    "print('test acc      score:', metrics.accuracy_score(df_test['label'], test_pipeline.predict(df_test['text'])))"
   ]
  },
  {
   "cell_type": "code",
   "execution_count": 27,
   "metadata": {},
   "outputs": [
    {
     "name": "stdout",
     "output_type": "stream",
     "text": [
      "45.4 ms ± 3.64 ms per loop (mean ± std. dev. of 7 runs, 10 loops each)\n"
     ]
    }
   ],
   "source": [
    "%%timeit\n",
    "test_pipeline.predict(df_test['text'])"
   ]
  },
  {
   "cell_type": "markdown",
   "metadata": {
    "collapsed": false,
    "id": "aXgxe3_rgV_r",
    "jupyter": {
     "outputs_hidden": false
    },
    "pycharm": {
     "name": "#%% md\n"
    }
   },
   "source": [
    "## Bayesian Optimization"
   ]
  },
  {
   "cell_type": "code",
   "execution_count": 33,
   "metadata": {
    "colab": {
     "base_uri": "https://localhost:8080/"
    },
    "id": "R4BffL1_gV_r",
    "outputId": "0d769bf0-9223-4771-acb6-c6b7b243bb05",
    "pycharm": {
     "name": "#%%\n"
    }
   },
   "outputs": [
    {
     "name": "stdout",
     "output_type": "stream",
     "text": [
      "Fitting 4 folds for each of 1 candidates, totalling 4 fits\n",
      "Fitting 4 folds for each of 1 candidates, totalling 4 fits\n",
      "Fitting 4 folds for each of 1 candidates, totalling 4 fits\n",
      "Fitting 4 folds for each of 1 candidates, totalling 4 fits\n",
      "Fitting 4 folds for each of 1 candidates, totalling 4 fits\n",
      "Fitting 4 folds for each of 1 candidates, totalling 4 fits\n",
      "Fitting 4 folds for each of 1 candidates, totalling 4 fits\n",
      "Fitting 4 folds for each of 1 candidates, totalling 4 fits\n",
      "Fitting 4 folds for each of 1 candidates, totalling 4 fits\n",
      "Fitting 4 folds for each of 1 candidates, totalling 4 fits\n",
      "Fitting 4 folds for each of 1 candidates, totalling 4 fits\n",
      "Fitting 4 folds for each of 1 candidates, totalling 4 fits\n",
      "Fitting 4 folds for each of 1 candidates, totalling 4 fits\n",
      "Fitting 4 folds for each of 1 candidates, totalling 4 fits\n",
      "Fitting 4 folds for each of 1 candidates, totalling 4 fits\n",
      "Fitting 4 folds for each of 1 candidates, totalling 4 fits\n",
      "Fitting 4 folds for each of 1 candidates, totalling 4 fits\n",
      "Fitting 4 folds for each of 1 candidates, totalling 4 fits\n",
      "Fitting 4 folds for each of 1 candidates, totalling 4 fits\n",
      "Fitting 4 folds for each of 1 candidates, totalling 4 fits\n",
      "Fitting 4 folds for each of 1 candidates, totalling 4 fits\n",
      "Fitting 4 folds for each of 1 candidates, totalling 4 fits\n",
      "Fitting 4 folds for each of 1 candidates, totalling 4 fits\n",
      "Fitting 4 folds for each of 1 candidates, totalling 4 fits\n",
      "Fitting 4 folds for each of 1 candidates, totalling 4 fits\n",
      "Fitting 4 folds for each of 1 candidates, totalling 4 fits\n",
      "Fitting 4 folds for each of 1 candidates, totalling 4 fits\n",
      "Fitting 4 folds for each of 1 candidates, totalling 4 fits\n",
      "Fitting 4 folds for each of 1 candidates, totalling 4 fits\n",
      "Fitting 4 folds for each of 1 candidates, totalling 4 fits\n",
      "Fitting 4 folds for each of 1 candidates, totalling 4 fits\n",
      "Fitting 4 folds for each of 1 candidates, totalling 4 fits\n",
      "Fitting 4 folds for each of 1 candidates, totalling 4 fits\n",
      "Fitting 4 folds for each of 1 candidates, totalling 4 fits\n",
      "Fitting 4 folds for each of 1 candidates, totalling 4 fits\n",
      "Fitting 4 folds for each of 1 candidates, totalling 4 fits\n",
      "Fitting 4 folds for each of 1 candidates, totalling 4 fits\n",
      "Fitting 4 folds for each of 1 candidates, totalling 4 fits\n",
      "Fitting 4 folds for each of 1 candidates, totalling 4 fits\n",
      "Fitting 4 folds for each of 1 candidates, totalling 4 fits\n",
      "Fitting 4 folds for each of 1 candidates, totalling 4 fits\n",
      "Fitting 4 folds for each of 1 candidates, totalling 4 fits\n",
      "Fitting 4 folds for each of 1 candidates, totalling 4 fits\n",
      "Fitting 4 folds for each of 1 candidates, totalling 4 fits\n",
      "Fitting 4 folds for each of 1 candidates, totalling 4 fits\n",
      "Fitting 4 folds for each of 1 candidates, totalling 4 fits\n",
      "Fitting 4 folds for each of 1 candidates, totalling 4 fits\n",
      "Fitting 4 folds for each of 1 candidates, totalling 4 fits\n",
      "Fitting 4 folds for each of 1 candidates, totalling 4 fits\n",
      "Fitting 4 folds for each of 1 candidates, totalling 4 fits\n",
      "Fitting 4 folds for each of 1 candidates, totalling 4 fits\n",
      "Fitting 4 folds for each of 1 candidates, totalling 4 fits\n",
      "Fitting 4 folds for each of 1 candidates, totalling 4 fits\n",
      "Fitting 4 folds for each of 1 candidates, totalling 4 fits\n",
      "Fitting 4 folds for each of 1 candidates, totalling 4 fits\n",
      "Fitting 4 folds for each of 1 candidates, totalling 4 fits\n",
      "Fitting 4 folds for each of 1 candidates, totalling 4 fits\n",
      "Fitting 4 folds for each of 1 candidates, totalling 4 fits\n",
      "Fitting 4 folds for each of 1 candidates, totalling 4 fits\n",
      "Fitting 4 folds for each of 1 candidates, totalling 4 fits\n",
      "Fitting 4 folds for each of 1 candidates, totalling 4 fits\n",
      "Fitting 4 folds for each of 1 candidates, totalling 4 fits\n",
      "Fitting 4 folds for each of 1 candidates, totalling 4 fits\n",
      "Fitting 4 folds for each of 1 candidates, totalling 4 fits\n",
      "cv acc score: 0.703165577470435\n",
      "Pipeline(steps=[('vec',\n",
      "                 TfidfVectorizer(max_df=0.9674950665723981, min_df=0.0,\n",
      "                                 ngram_range=(1, 3), stop_words='english')),\n",
      "                ('model',\n",
      "                 LinearSVC(C=16472.31111090191, loss='hinge',\n",
      "                           tol=3.5396595648472668e-06))])\n",
      "CPU times: user 6min 14s, sys: 52.4 s, total: 7min 6s\n",
      "Wall time: 5min 11s\n"
     ]
    },
    {
     "data": {
      "text/plain": [
       "OrderedDict([('model__C', 16472.31111090191),\n",
       "             ('model__loss', 'hinge'),\n",
       "             ('model__tol', 3.5396595648472668e-06),\n",
       "             ('vec__lowercase', True),\n",
       "             ('vec__max_df', 0.9674950665723981),\n",
       "             ('vec__min_df', 0.0),\n",
       "             ('vec__ngram_range', (1, 3)),\n",
       "             ('vec__norm', 'l2'),\n",
       "             ('vec__stop_words', 'english'),\n",
       "             ('vec__sublinear_tf', False)])"
      ]
     },
     "execution_count": 33,
     "metadata": {},
     "output_type": "execute_result"
    }
   ],
   "source": [
    "%%time\n",
    "\n",
    "pipeline = Pipeline([\n",
    "    ('vec', TfidfVectorizer()),\n",
    "    ('model', LinearSVC()),\n",
    "])\n",
    "\n",
    "\n",
    "# can not use tuples for `vec__ngram_range`, due to https://github.com/scikit-optimize/scikit-optimize/issues/967\n",
    "class MyTuple:\n",
    "    def __init__(self, *tp):\n",
    "        self.tp = tp\n",
    "\n",
    "    def __iter__(self):\n",
    "        return iter(self.tp)\n",
    "\n",
    "    def __hash__(self):\n",
    "        return hash(self.tp)\n",
    "\n",
    "    def __repr__(self):\n",
    "        return self.tp.__repr__()\n",
    "\n",
    "    def __str__(self):\n",
    "        return self.tp.__str__()\n",
    "\n",
    "\n",
    "opt = BayesSearchCV(\n",
    "    pipeline,\n",
    "    {\n",
    "        'vec__lowercase': [True, False],\n",
    "        'vec__stop_words': [None, 'english'],\n",
    "        'vec__ngram_range': Categorical([MyTuple(1,1), MyTuple(1,2), MyTuple(1,3), MyTuple(2,2), MyTuple(2,3)], transform='identity'),\n",
    "        'vec__norm': ['l1', 'l2'],\n",
    "        'vec__sublinear_tf': [True, False],\n",
    "        'vec__max_df': (0.9, 1.0, 'uniform'),\n",
    "        'vec__min_df': (0.0, 0.1, 'uniform'),\n",
    "     \n",
    "        'model__C': (1e-6, 1e+6, 'log-uniform'),\n",
    "        'model__tol': (1e-6, 1e-2, 'log-uniform'),\n",
    "        'model__loss': ['hinge', 'squared_hinge'],\n",
    "    },\n",
    "    n_iter=64,\n",
    "    cv=4,\n",
    "    n_jobs=4,\n",
    "    scoring='f1_macro',\n",
    "    verbose=1,\n",
    ")\n",
    "\n",
    "opt.fit(df_train['text'], df_train['label'])\n",
    "\n",
    "print('cv acc score:', opt.best_score_)\n",
    "print(str(opt.best_estimator_))\n",
    "opt.best_params_"
   ]
  },
  {
   "cell_type": "code",
   "execution_count": 34,
   "metadata": {
    "colab": {
     "base_uri": "https://localhost:8080/",
     "height": 169
    },
    "id": "__szMvkfgV_s",
    "outputId": "9fca91df-5557-4c9e-dda7-75de4e69cac3",
    "pycharm": {
     "name": "#%%\n"
    }
   },
   "outputs": [
    {
     "name": "stdout",
     "output_type": "stream",
     "text": [
      "val acc score: 0.6956554820056304\n"
     ]
    }
   ],
   "source": [
    "print('val f1 score:', opt.score(df_val['text'], df_val['label']))"
   ]
  },
  {
   "cell_type": "code",
   "execution_count": 35,
   "metadata": {},
   "outputs": [
    {
     "name": "stdout",
     "output_type": "stream",
     "text": [
      "val f1 score: 0.6956554820056304\n"
     ]
    }
   ],
   "source": [
    "print('val f1 score:', opt.score(df_val['text'], df_val['label']))"
   ]
  },
  {
   "cell_type": "code",
   "execution_count": 36,
   "metadata": {
    "id": "_k4pVXrPbR2p"
   },
   "outputs": [
    {
     "name": "stdout",
     "output_type": "stream",
     "text": [
      "val f1  score: 0.7948717948717949\n",
      "val acc score: 0.728\n"
     ]
    }
   ],
   "source": [
    "print('val f1  score:', metrics.f1_score(df_val['label'], opt.best_estimator_.predict(df_val['text']), average='binary', pos_label='NOT'))\n",
    "print('val acc score:', metrics.accuracy_score(df_val['label'], opt.best_estimator_.predict(df_val['text'])))"
   ]
  },
  {
   "cell_type": "code",
   "execution_count": 46,
   "metadata": {},
   "outputs": [],
   "source": [
    "test_pipeline = Pipeline(steps=[('vec',\n",
    "                 TfidfVectorizer(max_df=0.9675, min_df=0.0,\n",
    "                                 ngram_range=(1, 3), stop_words='english')),\n",
    "                ('model',\n",
    "                 LinearSVC(C=16472.31, loss='hinge',\n",
    "                           tol=3.54e-06))\n",
    "]).fit(df_train['text'], df_train['label'])"
   ]
  },
  {
   "cell_type": "code",
   "execution_count": 47,
   "metadata": {
    "id": "0DS2yY8FjtLo"
   },
   "outputs": [
    {
     "name": "stdout",
     "output_type": "stream",
     "text": [
      "test f1-macro score: 0.7314270810454646\n",
      "test acc      score: 0.7883720930232558\n"
     ]
    }
   ],
   "source": [
    "print('test f1-macro score:', metrics.f1_score(df_test['label'], test_pipeline.predict(df_test['text']), average='macro'))\n",
    "print('test acc      score:', metrics.accuracy_score(df_test['label'], test_pipeline.predict(df_test['text'])))"
   ]
  },
  {
   "cell_type": "code",
   "execution_count": 48,
   "metadata": {},
   "outputs": [
    {
     "data": {
      "text/plain": [
       "array([[537,  83],\n",
       "       [ 99, 141]])"
      ]
     },
     "execution_count": 48,
     "metadata": {},
     "output_type": "execute_result"
    }
   ],
   "source": [
    "metrics.confusion_matrix(df_test['label'], test_pipeline.predict(df_test['text']))"
   ]
  },
  {
   "cell_type": "code",
   "execution_count": 50,
   "metadata": {},
   "outputs": [
    {
     "name": "stdout",
     "output_type": "stream",
     "text": [
      "              precision    recall  f1-score   support\n",
      "\n",
      "         NOT       0.84      0.87      0.86       620\n",
      "         OFF       0.63      0.59      0.61       240\n",
      "\n",
      "    accuracy                           0.79       860\n",
      "   macro avg       0.74      0.73      0.73       860\n",
      "weighted avg       0.78      0.79      0.79       860\n",
      "\n"
     ]
    }
   ],
   "source": [
    "print(metrics.classification_report(df_test['label'], test_pipeline.predict(df_test['text'])))"
   ]
  },
  {
   "cell_type": "code",
   "execution_count": 40,
   "metadata": {},
   "outputs": [
    {
     "name": "stdout",
     "output_type": "stream",
     "text": [
      "40.4 ms ± 1.68 ms per loop (mean ± std. dev. of 7 runs, 10 loops each)\n"
     ]
    }
   ],
   "source": [
    "%%timeit\n",
    "test_pipeline.predict(df_test['text'])"
   ]
  },
  {
   "cell_type": "markdown",
   "metadata": {},
   "source": [
    "## Prediction Save"
   ]
  },
  {
   "cell_type": "code",
   "execution_count": 55,
   "metadata": {},
   "outputs": [
    {
     "data": {
      "text/html": [
       "<div>\n",
       "<style scoped>\n",
       "    .dataframe tbody tr th:only-of-type {\n",
       "        vertical-align: middle;\n",
       "    }\n",
       "\n",
       "    .dataframe tbody tr th {\n",
       "        vertical-align: top;\n",
       "    }\n",
       "\n",
       "    .dataframe thead th {\n",
       "        text-align: right;\n",
       "    }\n",
       "</style>\n",
       "<table border=\"1\" class=\"dataframe\">\n",
       "  <thead>\n",
       "    <tr style=\"text-align: right;\">\n",
       "      <th></th>\n",
       "      <th>text</th>\n",
       "      <th>true_label</th>\n",
       "      <th>pred_label</th>\n",
       "    </tr>\n",
       "  </thead>\n",
       "  <tbody>\n",
       "    <tr>\n",
       "      <th>0</th>\n",
       "      <td>#WhoIsQ #WheresTheServer #DumpNike #DECLASFISA Democrats Support Antifa, Muslim Brotherhood, MS13, ISIS, Pedophilia, Child Trafficking, Taxpayer Funded Abortion’s, Election Fraud, Sedition And Treason!!! #LockThemAllUp #WWG1WGA #QAnon ⁦@USER URL</td>\n",
       "      <td>OFF</td>\n",
       "      <td>NOT</td>\n",
       "    </tr>\n",
       "    <tr>\n",
       "      <th>1</th>\n",
       "      <td>#ConstitutionDay is revered by Conservatives, hated by Progressives/Socialist/Democrats that want to change it.</td>\n",
       "      <td>NOT</td>\n",
       "      <td>NOT</td>\n",
       "    </tr>\n",
       "    <tr>\n",
       "      <th>2</th>\n",
       "      <td>#FOXNews #NRA #MAGA #POTUS #TRUMP #2ndAmendment #RNC #USMC #veterans @USER    @USER @USER @USER @USER   #fakereporting #THESWAMP #dnc #liberals @USER @USER #fakeoutrage @USER  First, it reduces the ca URL</td>\n",
       "      <td>NOT</td>\n",
       "      <td>NOT</td>\n",
       "    </tr>\n",
       "    <tr>\n",
       "      <th>3</th>\n",
       "      <td>#Watching #Boomer getting the news that she is still up for parole always makes me smile. #Wentworth Finale...@USER is such a treasure. URL</td>\n",
       "      <td>NOT</td>\n",
       "      <td>NOT</td>\n",
       "    </tr>\n",
       "    <tr>\n",
       "      <th>4</th>\n",
       "      <td>#NoPasaran: Unity demo to oppose the far-right in #London – #antifa #Oct13 — Enough is Enough! URL</td>\n",
       "      <td>OFF</td>\n",
       "      <td>NOT</td>\n",
       "    </tr>\n",
       "    <tr>\n",
       "      <th>...</th>\n",
       "      <td>...</td>\n",
       "      <td>...</td>\n",
       "      <td>...</td>\n",
       "    </tr>\n",
       "    <tr>\n",
       "      <th>855</th>\n",
       "      <td>#DespicableDems lie again about rifles. Dem Distorted the Law to Push Gun-Control at Kavanaugh Confirmation URL via @USER</td>\n",
       "      <td>OFF</td>\n",
       "      <td>NOT</td>\n",
       "    </tr>\n",
       "    <tr>\n",
       "      <th>856</th>\n",
       "      <td>#MeetTheSpeakers 🙌 @USER will present in our event OIW 2018: Finpact - Global Impact through Financial Technologies. She is Senior Advisor Group Sustainable Finance and worked on green energy and climate risk. Join us to meet Thina URL #oiw2018 URL</td>\n",
       "      <td>NOT</td>\n",
       "      <td>NOT</td>\n",
       "    </tr>\n",
       "    <tr>\n",
       "      <th>857</th>\n",
       "      <td>3 people just unfollowed me for talking about merlin sorry y'all im still up covinsky's ass im just waiting for a psisly sequel announcement ive run out of witty and funny tweets about tatbilb i am drained</td>\n",
       "      <td>OFF</td>\n",
       "      <td>OFF</td>\n",
       "    </tr>\n",
       "    <tr>\n",
       "      <th>858</th>\n",
       "      <td>#WednesdayWisdom Antifa calls the right fascist when, in all reality, they and the left are following the same scenario as the Third Reich: indoctrination of our youth, trying to control minorities and a total lack of understanding or knowledge of history.  #WalkAway</td>\n",
       "      <td>NOT</td>\n",
       "      <td>OFF</td>\n",
       "    </tr>\n",
       "    <tr>\n",
       "      <th>859</th>\n",
       "      <td>#Kavanaugh typical #liberals , #Democrats URL</td>\n",
       "      <td>NOT</td>\n",
       "      <td>OFF</td>\n",
       "    </tr>\n",
       "  </tbody>\n",
       "</table>\n",
       "<p>860 rows × 3 columns</p>\n",
       "</div>"
      ],
      "text/plain": [
       "                                                                                                                                                                                                                                                                            text  \\\n",
       "0                          #WhoIsQ #WheresTheServer #DumpNike #DECLASFISA Democrats Support Antifa, Muslim Brotherhood, MS13, ISIS, Pedophilia, Child Trafficking, Taxpayer Funded Abortion’s, Election Fraud, Sedition And Treason!!! #LockThemAllUp #WWG1WGA #QAnon ⁦@USER URL   \n",
       "1                                                                                                                                                                #ConstitutionDay is revered by Conservatives, hated by Progressives/Socialist/Democrats that want to change it.   \n",
       "2                                                                   #FOXNews #NRA #MAGA #POTUS #TRUMP #2ndAmendment #RNC #USMC #veterans @USER    @USER @USER @USER @USER   #fakereporting #THESWAMP #dnc #liberals @USER @USER #fakeoutrage @USER  First, it reduces the ca URL   \n",
       "3                                                                                                                                    #Watching #Boomer getting the news that she is still up for parole always makes me smile. #Wentworth Finale...@USER is such a treasure. URL   \n",
       "4                                                                                                                                                                             #NoPasaran: Unity demo to oppose the far-right in #London – #antifa #Oct13 — Enough is Enough! URL   \n",
       "..                                                                                                                                                                                                                                                                           ...   \n",
       "855                                                                                                                                                    #DespicableDems lie again about rifles. Dem Distorted the Law to Push Gun-Control at Kavanaugh Confirmation URL via @USER   \n",
       "856                     #MeetTheSpeakers 🙌 @USER will present in our event OIW 2018: Finpact - Global Impact through Financial Technologies. She is Senior Advisor Group Sustainable Finance and worked on green energy and climate risk. Join us to meet Thina URL #oiw2018 URL   \n",
       "857                                                                3 people just unfollowed me for talking about merlin sorry y'all im still up covinsky's ass im just waiting for a psisly sequel announcement ive run out of witty and funny tweets about tatbilb i am drained   \n",
       "858  #WednesdayWisdom Antifa calls the right fascist when, in all reality, they and the left are following the same scenario as the Third Reich: indoctrination of our youth, trying to control minorities and a total lack of understanding or knowledge of history.  #WalkAway   \n",
       "859                                                                                                                                                                                                                                #Kavanaugh typical #liberals , #Democrats URL   \n",
       "\n",
       "    true_label pred_label  \n",
       "0          OFF        NOT  \n",
       "1          NOT        NOT  \n",
       "2          NOT        NOT  \n",
       "3          NOT        NOT  \n",
       "4          OFF        NOT  \n",
       "..         ...        ...  \n",
       "855        OFF        NOT  \n",
       "856        NOT        NOT  \n",
       "857        OFF        OFF  \n",
       "858        NOT        OFF  \n",
       "859        NOT        OFF  \n",
       "\n",
       "[860 rows x 3 columns]"
      ]
     },
     "execution_count": 55,
     "metadata": {},
     "output_type": "execute_result"
    }
   ],
   "source": [
    "df_pred = pd.DataFrame.from_dict({\n",
    "    'text': df_test['text'],\n",
    "    'true_label': df_test['label'],\n",
    "    'pred_label': test_pipeline.predict(df_test['text']),\n",
    "})\n",
    "df_pred.to_csv('baseline-tf-idf-linear-svm.csv', index=False)\n",
    "df_pred"
   ]
  },
  {
   "cell_type": "code",
   "execution_count": null,
   "metadata": {},
   "outputs": [],
   "source": []
  }
 ],
 "metadata": {
  "colab": {
   "collapsed_sections": [],
   "provenance": []
  },
  "kernelspec": {
   "display_name": "Python 3 (ipykernel)",
   "language": "python",
   "name": "python3"
  },
  "language_info": {
   "codemirror_mode": {
    "name": "ipython",
    "version": 3
   },
   "file_extension": ".py",
   "mimetype": "text/x-python",
   "name": "python",
   "nbconvert_exporter": "python",
   "pygments_lexer": "ipython3",
   "version": "3.10.6"
  }
 },
 "nbformat": 4,
 "nbformat_minor": 4
}
