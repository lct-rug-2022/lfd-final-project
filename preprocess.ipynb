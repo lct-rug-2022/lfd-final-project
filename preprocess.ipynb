{
 "cells": [
  {
   "cell_type": "code",
   "execution_count": 58,
   "id": "ac8eb0fb",
   "metadata": {},
   "outputs": [],
   "source": [
    "import re\n",
    "import emoji\n",
    "from wordsegment import load,segment\n",
    "\n",
    "load()\n",
    "\n",
    "def read_corpus(corpus_file):\n",
    "    '''Reads in file name and returns text and its label'''\n",
    "    documents = []\n",
    "    labels = []\n",
    "    with open(corpus_file, encoding='utf-8') as f:\n",
    "        for line in f:\n",
    "            tokens = line.strip()\n",
    "            documents.append(\"\".join(tokens.split(\"\\t\")[0]).strip())\n",
    "            # binary problem: NOT, OFF\n",
    "            labels.append(tokens.split(\"\\t\")[1])\n",
    "    return documents, labels\n",
    "\n",
    "def preprocess_input(text_in):\n",
    "    '''Read in text and preprocesses it and returns'''\n",
    "    input = re.sub(\"/\",\" / \",text_in) #split slashes\n",
    "    input = emoji.demojize(input,delimiters=(\" \",\" \")) #change emoji\n",
    "    input = re.sub(\"_\",\" \",input) #split underscores\n",
    "    hashtags = re.findall(r\"(#\\w+)\", input) #split hashtags\n",
    "    for hs in hashtags:\n",
    "        words = \" \".join(segment(hs))\n",
    "        input = input.replace(hs, words)\n",
    "    input=input.lower()\n",
    "    return input\n",
    "\n",
    "def write_to_txt(documents,labels,file):\n",
    "    '''write documents and labels to a file'''\n",
    "    with open(file,\"w\") as f:\n",
    "        for i in range(len(documents)):\n",
    "            f.write(documents[i]+\"\\t\"+labels[i]+\"\\n\")\n",
    "    f.close()"
   ]
  },
  {
   "cell_type": "code",
   "execution_count": 59,
   "id": "311b8060",
   "metadata": {},
   "outputs": [],
   "source": [
    "input_files=[\"datasets/train.tsv\",\"datasets/val.tsv\",\"datasets/test.tsv\"]\n",
    "output_files=[\"datasets/train_preprocessed.txt\",\"datasets/val_preprocessed.txt\",\"datasets/test_preprocessed.txt\"]\n",
    "\n",
    "for j in range(len(input_files)):\n",
    "    #read data files\n",
    "    docs,labs=read_corpus(input_files[j])\n",
    "    #preprocess text\n",
    "    docs=[preprocess_input(x) for x in docs]\n",
    "    #write preprocess text to files\n",
    "    write_to_txt(docs,labs,output_files[j])"
   ]
  }
 ],
 "metadata": {
  "kernelspec": {
   "display_name": "Python 3 (ipykernel)",
   "language": "python",
   "name": "python3"
  },
  "language_info": {
   "codemirror_mode": {
    "name": "ipython",
    "version": 3
   },
   "file_extension": ".py",
   "mimetype": "text/x-python",
   "name": "python",
   "nbconvert_exporter": "python",
   "pygments_lexer": "ipython3",
   "version": "3.9.12"
  }
 },
 "nbformat": 4,
 "nbformat_minor": 5
}
