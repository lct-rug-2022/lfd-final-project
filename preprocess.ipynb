{
 "cells": [
  {
   "cell_type": "markdown",
   "source": [
    "## Imports"
   ],
   "metadata": {
    "collapsed": false
   }
  },
  {
   "cell_type": "code",
   "execution_count": 2,
   "outputs": [
    {
     "name": "stdout",
     "output_type": "stream",
     "text": [
      "\u001B[33m  DEPRECATION: emoji is being installed using the legacy 'setup.py install' method, because it does not have a 'pyproject.toml' and the 'wheel' package is not installed. pip 23.1 will enforce this behaviour change. A possible replacement is to enable the '--use-pep517' option. Discussion can be found at https://github.com/pypa/pip/issues/8559\u001B[0m\u001B[33m\r\n",
      "\u001B[0m"
     ]
    }
   ],
   "source": [
    "!pip install -q -U emoji pandas wordsegment"
   ],
   "metadata": {
    "collapsed": false
   }
  },
  {
   "cell_type": "code",
   "execution_count": 1,
   "outputs": [],
   "source": [
    "import re\n",
    "from pathlib import Path\n",
    "\n",
    "import emoji\n",
    "import pandas as pd\n",
    "from wordsegment import load, segment"
   ],
   "metadata": {
    "collapsed": false
   }
  },
  {
   "cell_type": "code",
   "execution_count": 2,
   "outputs": [],
   "source": [
    "load()"
   ],
   "metadata": {
    "collapsed": false
   }
  },
  {
   "cell_type": "markdown",
   "source": [
    "## Auxiliary functions"
   ],
   "metadata": {
    "collapsed": false
   }
  },
  {
   "cell_type": "code",
   "execution_count": 3,
   "outputs": [],
   "source": [
    "def preprocess_input(text: str):\n",
    "    \"\"\"Read in text and preprocesses it and returns\"\"\"\n",
    "    text = re.sub(\"/\",\" / \", text)  # split slashes\n",
    "    text = emoji.demojize(text, delimiters=(\" \", \" \"))  # change emoji\n",
    "    text = re.sub(\"_\", \" \", text)  # split underscores\n",
    "\n",
    "    # split hashtags\n",
    "    hashtags = re.findall(r\"(#\\w+)\", text)\n",
    "    for hs in hashtags:\n",
    "        words = \" \".join(segment(hs))\n",
    "        text = text.replace(hs, words)\n",
    "\n",
    "    text = text.lower()  # lower text\n",
    "\n",
    "    return text"
   ],
   "metadata": {
    "collapsed": false
   }
  },
  {
   "cell_type": "markdown",
   "source": [
    "## Process data"
   ],
   "metadata": {
    "collapsed": false
   }
  },
  {
   "cell_type": "code",
   "execution_count": 4,
   "outputs": [],
   "source": [
    "# DATA_FOLDER = Path('.')\n",
    "DATA_FOLDER = Path('datasets')\n",
    "\n",
    "assert DATA_FOLDER.exists()"
   ],
   "metadata": {
    "collapsed": false
   }
  },
  {
   "cell_type": "code",
   "execution_count": 5,
   "outputs": [],
   "source": [
    "df_train = pd.read_csv(DATA_FOLDER / 'train.csv')\n",
    "df_val = pd.read_csv(DATA_FOLDER / 'val.csv')\n",
    "df_test = pd.read_csv(DATA_FOLDER / 'test.csv')\n",
    "\n",
    "for in_filename, out_filename in [('train.csv', 'train_preprocessed.csv'), ('val.csv', 'val_preprocessed.csv'), ('test.csv', 'test_preprocessed.csv')]:\n",
    "    _df = pd.read_csv(DATA_FOLDER / in_filename)\n",
    "    _df['tweet'] = _df['tweet'].apply(preprocess_input)\n",
    "    _df.to_csv(DATA_FOLDER / out_filename, index=False)"
   ],
   "metadata": {
    "collapsed": false
   }
  },
  {
   "cell_type": "code",
   "execution_count": null,
   "outputs": [],
   "source": [],
   "metadata": {
    "collapsed": false
   }
  }
 ],
 "metadata": {
  "kernelspec": {
   "display_name": "Python 3 (ipykernel)",
   "language": "python",
   "name": "python3"
  },
  "language_info": {
   "codemirror_mode": {
    "name": "ipython",
    "version": 3
   },
   "file_extension": ".py",
   "mimetype": "text/x-python",
   "name": "python",
   "nbconvert_exporter": "python",
   "pygments_lexer": "ipython3",
   "version": "3.9.12"
  }
 },
 "nbformat": 4,
 "nbformat_minor": 5
}
